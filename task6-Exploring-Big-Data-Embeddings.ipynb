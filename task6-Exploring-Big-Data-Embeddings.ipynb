{
  "nbformat": 4,
  "nbformat_minor": 0,
  "metadata": {
    "colab": {
      "provenance": [],
      "machine_shape": "hm"
    },
    "kernelspec": {
      "name": "python3",
      "display_name": "Python 3"
    }
  },
  "cells": [
    {
      "cell_type": "markdown",
      "metadata": {
        "id": "kPt5q27L5557"
      },
      "source": [
        "# EECS 4415 - Part 6\n",
        "## Exploring Big Data with Embedding Techniques"
      ]
    },
    {
      "cell_type": "markdown",
      "metadata": {
        "id": "p0-YhEpP_Ds-"
      },
      "source": [
        "### Setup"
      ]
    },
    {
      "cell_type": "markdown",
      "metadata": {
        "id": "82kmj9fIVlq0"
      },
      "source": [
        "First of all, we install the [graph2vec library](https://github.com/VHRanger/graph2vec) which offers a fast implementation of the node2vec method.\n",
        "\n",
        "To learn how to implement fast random walks on graphs,  [read the blog post](https://www.singlelunch.com/2019/08/01/700x-faster-node2vec-models-fastest-random-walks-on-a-graph/) which explains some of the design choices behind this library."
      ]
    },
    {
      "cell_type": "code",
      "source": [
        "!python -m pip install 'csrgraph @ git+https://github.com/VHRanger/CSRGraph@f052c1cf128ab21d21a4710337dc7c1cd5658df7'\n",
        "!python -m pip install 'nodevectors @ git+https://github.com/aman0456/nodevectors@67e9af0506236be9aae6d460e96d4dec6329bcd2'"
      ],
      "metadata": {
        "id": "5XivxOcOKLvQ",
        "colab": {
          "base_uri": "https://localhost:8080/"
        },
        "outputId": "4f4601a0-d68f-46e1-d95e-62d9cd9a8d44"
      },
      "execution_count": 46,
      "outputs": [
        {
          "output_type": "stream",
          "name": "stdout",
          "text": [
            "Collecting csrgraph@ git+https://github.com/VHRanger/CSRGraph@f052c1cf128ab21d21a4710337dc7c1cd5658df7\n",
            "  Using cached csrgraph-0.1.29-py3-none-any.whl\n",
            "Requirement already satisfied: networkx in /usr/local/lib/python3.10/dist-packages (from csrgraph@ git+https://github.com/VHRanger/CSRGraph@f052c1cf128ab21d21a4710337dc7c1cd5658df7) (3.4.2)\n",
            "Requirement already satisfied: numba in /usr/local/lib/python3.10/dist-packages (from csrgraph@ git+https://github.com/VHRanger/CSRGraph@f052c1cf128ab21d21a4710337dc7c1cd5658df7) (0.60.0)\n",
            "Requirement already satisfied: numpy in /usr/local/lib/python3.10/dist-packages (from csrgraph@ git+https://github.com/VHRanger/CSRGraph@f052c1cf128ab21d21a4710337dc7c1cd5658df7) (1.26.4)\n",
            "Requirement already satisfied: pandas in /usr/local/lib/python3.10/dist-packages (from csrgraph@ git+https://github.com/VHRanger/CSRGraph@f052c1cf128ab21d21a4710337dc7c1cd5658df7) (2.2.2)\n",
            "Requirement already satisfied: scipy in /usr/local/lib/python3.10/dist-packages (from csrgraph@ git+https://github.com/VHRanger/CSRGraph@f052c1cf128ab21d21a4710337dc7c1cd5658df7) (1.13.1)\n",
            "Requirement already satisfied: scikit-learn in /usr/local/lib/python3.10/dist-packages (from csrgraph@ git+https://github.com/VHRanger/CSRGraph@f052c1cf128ab21d21a4710337dc7c1cd5658df7) (1.5.2)\n",
            "Requirement already satisfied: tqdm in /usr/local/lib/python3.10/dist-packages (from csrgraph@ git+https://github.com/VHRanger/CSRGraph@f052c1cf128ab21d21a4710337dc7c1cd5658df7) (4.66.6)\n",
            "Requirement already satisfied: llvmlite<0.44,>=0.43.0dev0 in /usr/local/lib/python3.10/dist-packages (from numba->csrgraph@ git+https://github.com/VHRanger/CSRGraph@f052c1cf128ab21d21a4710337dc7c1cd5658df7) (0.43.0)\n",
            "Requirement already satisfied: python-dateutil>=2.8.2 in /usr/local/lib/python3.10/dist-packages (from pandas->csrgraph@ git+https://github.com/VHRanger/CSRGraph@f052c1cf128ab21d21a4710337dc7c1cd5658df7) (2.8.2)\n",
            "Requirement already satisfied: pytz>=2020.1 in /usr/local/lib/python3.10/dist-packages (from pandas->csrgraph@ git+https://github.com/VHRanger/CSRGraph@f052c1cf128ab21d21a4710337dc7c1cd5658df7) (2024.2)\n",
            "Requirement already satisfied: tzdata>=2022.7 in /usr/local/lib/python3.10/dist-packages (from pandas->csrgraph@ git+https://github.com/VHRanger/CSRGraph@f052c1cf128ab21d21a4710337dc7c1cd5658df7) (2024.2)\n",
            "Requirement already satisfied: joblib>=1.2.0 in /usr/local/lib/python3.10/dist-packages (from scikit-learn->csrgraph@ git+https://github.com/VHRanger/CSRGraph@f052c1cf128ab21d21a4710337dc7c1cd5658df7) (1.4.2)\n",
            "Requirement already satisfied: threadpoolctl>=3.1.0 in /usr/local/lib/python3.10/dist-packages (from scikit-learn->csrgraph@ git+https://github.com/VHRanger/CSRGraph@f052c1cf128ab21d21a4710337dc7c1cd5658df7) (3.5.0)\n",
            "Requirement already satisfied: six>=1.5 in /usr/local/lib/python3.10/dist-packages (from python-dateutil>=2.8.2->pandas->csrgraph@ git+https://github.com/VHRanger/CSRGraph@f052c1cf128ab21d21a4710337dc7c1cd5658df7) (1.16.0)\n",
            "Collecting nodevectors@ git+https://github.com/aman0456/nodevectors@67e9af0506236be9aae6d460e96d4dec6329bcd2\n",
            "  Using cached nodevectors-0.1.23-py3-none-any.whl\n",
            "Requirement already satisfied: csrgraph in /usr/local/lib/python3.10/dist-packages (from nodevectors@ git+https://github.com/aman0456/nodevectors@67e9af0506236be9aae6d460e96d4dec6329bcd2) (0.1.29)\n",
            "Requirement already satisfied: gensim in /usr/local/lib/python3.10/dist-packages (from nodevectors@ git+https://github.com/aman0456/nodevectors@67e9af0506236be9aae6d460e96d4dec6329bcd2) (4.3.3)\n",
            "Requirement already satisfied: networkx in /usr/local/lib/python3.10/dist-packages (from nodevectors@ git+https://github.com/aman0456/nodevectors@67e9af0506236be9aae6d460e96d4dec6329bcd2) (3.4.2)\n",
            "Requirement already satisfied: numba in /usr/local/lib/python3.10/dist-packages (from nodevectors@ git+https://github.com/aman0456/nodevectors@67e9af0506236be9aae6d460e96d4dec6329bcd2) (0.60.0)\n",
            "Requirement already satisfied: numpy in /usr/local/lib/python3.10/dist-packages (from nodevectors@ git+https://github.com/aman0456/nodevectors@67e9af0506236be9aae6d460e96d4dec6329bcd2) (1.26.4)\n",
            "Requirement already satisfied: pandas>=1.0 in /usr/local/lib/python3.10/dist-packages (from nodevectors@ git+https://github.com/aman0456/nodevectors@67e9af0506236be9aae6d460e96d4dec6329bcd2) (2.2.2)\n",
            "Requirement already satisfied: scipy in /usr/local/lib/python3.10/dist-packages (from nodevectors@ git+https://github.com/aman0456/nodevectors@67e9af0506236be9aae6d460e96d4dec6329bcd2) (1.13.1)\n",
            "Requirement already satisfied: scikit-learn in /usr/local/lib/python3.10/dist-packages (from nodevectors@ git+https://github.com/aman0456/nodevectors@67e9af0506236be9aae6d460e96d4dec6329bcd2) (1.5.2)\n",
            "Requirement already satisfied: python-dateutil>=2.8.2 in /usr/local/lib/python3.10/dist-packages (from pandas>=1.0->nodevectors@ git+https://github.com/aman0456/nodevectors@67e9af0506236be9aae6d460e96d4dec6329bcd2) (2.8.2)\n",
            "Requirement already satisfied: pytz>=2020.1 in /usr/local/lib/python3.10/dist-packages (from pandas>=1.0->nodevectors@ git+https://github.com/aman0456/nodevectors@67e9af0506236be9aae6d460e96d4dec6329bcd2) (2024.2)\n",
            "Requirement already satisfied: tzdata>=2022.7 in /usr/local/lib/python3.10/dist-packages (from pandas>=1.0->nodevectors@ git+https://github.com/aman0456/nodevectors@67e9af0506236be9aae6d460e96d4dec6329bcd2) (2024.2)\n",
            "Requirement already satisfied: tqdm in /usr/local/lib/python3.10/dist-packages (from csrgraph->nodevectors@ git+https://github.com/aman0456/nodevectors@67e9af0506236be9aae6d460e96d4dec6329bcd2) (4.66.6)\n",
            "Requirement already satisfied: smart-open>=1.8.1 in /usr/local/lib/python3.10/dist-packages (from gensim->nodevectors@ git+https://github.com/aman0456/nodevectors@67e9af0506236be9aae6d460e96d4dec6329bcd2) (7.0.5)\n",
            "Requirement already satisfied: llvmlite<0.44,>=0.43.0dev0 in /usr/local/lib/python3.10/dist-packages (from numba->nodevectors@ git+https://github.com/aman0456/nodevectors@67e9af0506236be9aae6d460e96d4dec6329bcd2) (0.43.0)\n",
            "Requirement already satisfied: joblib>=1.2.0 in /usr/local/lib/python3.10/dist-packages (from scikit-learn->nodevectors@ git+https://github.com/aman0456/nodevectors@67e9af0506236be9aae6d460e96d4dec6329bcd2) (1.4.2)\n",
            "Requirement already satisfied: threadpoolctl>=3.1.0 in /usr/local/lib/python3.10/dist-packages (from scikit-learn->nodevectors@ git+https://github.com/aman0456/nodevectors@67e9af0506236be9aae6d460e96d4dec6329bcd2) (3.5.0)\n",
            "Requirement already satisfied: six>=1.5 in /usr/local/lib/python3.10/dist-packages (from python-dateutil>=2.8.2->pandas>=1.0->nodevectors@ git+https://github.com/aman0456/nodevectors@67e9af0506236be9aae6d460e96d4dec6329bcd2) (1.16.0)\n",
            "Requirement already satisfied: wrapt in /usr/local/lib/python3.10/dist-packages (from smart-open>=1.8.1->gensim->nodevectors@ git+https://github.com/aman0456/nodevectors@67e9af0506236be9aae6d460e96d4dec6329bcd2) (1.16.0)\n"
          ]
        }
      ]
    },
    {
      "cell_type": "markdown",
      "metadata": {
        "id": "pUCNE4-5Wc8b"
      },
      "source": [
        "We now import the library, and create a small wrapper class which will expose only the few hyperparameters we will need to tune in this Colab"
      ]
    },
    {
      "cell_type": "code",
      "metadata": {
        "id": "QiIPtudrGlTf"
      },
      "source": [
        "from nodevectors import Node2Vec\n",
        "import networkx as nx\n",
        "\n",
        "class Node2VecNew(Node2Vec):\n",
        "  \"\"\"\n",
        "  Parameters\n",
        "  ----------\n",
        "  p : float\n",
        "      p parameter of node2vec\n",
        "  q : float\n",
        "      q parameter of node2vec\n",
        "  d : int\n",
        "      dimensionality of the embedding vectors\n",
        "  \"\"\"\n",
        "  def __init__(self, p=1, q=1, d=32):\n",
        "    super().__init__(\n",
        "                 n_components=d,\n",
        "                     walklen=10,\n",
        "                     epochs=50,\n",
        "                     return_weight=1.0/p,\n",
        "                     neighbor_weight=1.0/q,\n",
        "                     threads=0,\n",
        "                     w2vparams={'window': 4,\n",
        "                                'negative': 5,\n",
        "                                'iter': 10,\n",
        "                                'ns_exponent': 0.5,\n",
        "                                'batch_words': 128})"
      ],
      "execution_count": 47,
      "outputs": []
    },
    {
      "cell_type": "markdown",
      "metadata": {
        "id": "qwtlO4_m_LbQ"
      },
      "source": [
        "Lastly, let's import some of the common libraries needed for our task."
      ]
    },
    {
      "cell_type": "code",
      "metadata": {
        "id": "twk-K-jilWK7"
      },
      "source": [
        "import pandas as pd\n",
        "import numpy as np\n",
        "import matplotlib.pyplot as plt\n",
        "from tqdm import tqdm\n",
        "%matplotlib inline"
      ],
      "execution_count": 48,
      "outputs": []
    },
    {
      "cell_type": "markdown",
      "source": [
        "Function to print graph information"
      ],
      "metadata": {
        "id": "4tN6aCTwYsna"
      }
    },
    {
      "cell_type": "code",
      "source": [
        "def print_graph_info(G, directed=True):\n",
        "  print(\"Number of nodes:\", len(G.nodes))\n",
        "  print(\"Number of edges:\", len(G.edges))\n",
        "  if directed:\n",
        "    print(\"Average in-degree:\", sum(dict(G.in_degree).values()) / len(G.nodes))\n",
        "    print(\"Average out-degree:\", sum(dict(G.out_degree).values()) / len(G.nodes))\n",
        "  else:\n",
        "    print(\"Average degree:\", sum(dict(G.degree).values()) / len(G.nodes))"
      ],
      "metadata": {
        "id": "bj4jOdIKYplQ"
      },
      "execution_count": 50,
      "outputs": []
    },
    {
      "cell_type": "markdown",
      "metadata": {
        "id": "kAYRX2PMm0L6"
      },
      "source": [
        "### Example\n",
        "\n",
        "In the example below, we will try to reproduce the plot in the lecture notes."
      ]
    },
    {
      "cell_type": "code",
      "metadata": {
        "id": "2PsVt5f2CsmP",
        "colab": {
          "base_uri": "https://localhost:8080/"
        },
        "outputId": "b884c0f6-7778-4aae-89f8-3af87c03367e"
      },
      "source": [
        "# Load the Zachary's Karate Club as a NetworkX Graph object\n",
        "KCG = nx.karate_club_graph()\n",
        "\n",
        "# Fit embedding model to the Karate Club graph\n",
        "n2v = Node2VecNew(1, 1, 2)\n",
        "n2v.fit(KCG)"
      ],
      "execution_count": 51,
      "outputs": [
        {
          "output_type": "stream",
          "name": "stdout",
          "text": [
            "Making walks... Done, T=0.01\n",
            "Mapping Walk Names... Done, T=0.03\n",
            "Training W2V... WARNING: gensim word2vec version is unoptimizedTry version 3.6 if on windows, versions 3.7 and 3.8 have had issues\n",
            "Done, T=0.30\n"
          ]
        }
      ]
    },
    {
      "cell_type": "code",
      "metadata": {
        "id": "ZEjzhwEiC1HD"
      },
      "source": [
        "embeddings = []\n",
        "for node in KCG.nodes:\n",
        "  embedding = list(n2v.predict(node))\n",
        "  club = KCG.nodes[node]['club']\n",
        "  embeddings.append(embedding + [club])\n",
        "\n",
        "# Construct a pandas dataframe with the 2D embeddings from node2vec,\n",
        "# plus the club name that each node belongs to after the split\n",
        "df = pd.DataFrame(embeddings, columns=['x', 'y', 'club'])"
      ],
      "execution_count": 52,
      "outputs": []
    },
    {
      "cell_type": "code",
      "metadata": {
        "id": "fJBTilMGLInb",
        "colab": {
          "base_uri": "https://localhost:8080/",
          "height": 467
        },
        "outputId": "04a088ce-85f7-47be-caf8-dd60e2381982"
      },
      "source": [
        "# Nodes who stayed with the Mr. Hi will be plotted in red, while nodes\n",
        "# who moved with the Officer will be plotted in blue\n",
        "colors = ['red' if x == 'Mr. Hi' else 'blue' for x in df.club]\n",
        "df.plot.scatter(x='x', y='y', s=50, c=colors)"
      ],
      "execution_count": 53,
      "outputs": [
        {
          "output_type": "execute_result",
          "data": {
            "text/plain": [
              "<Axes: xlabel='x', ylabel='y'>"
            ]
          },
          "metadata": {},
          "execution_count": 53
        },
        {
          "output_type": "display_data",
          "data": {
            "text/plain": [
              "<Figure size 640x480 with 1 Axes>"
            ],
            "image/png": "[encoded data removed]"
          },
          "metadata": {}
        }
      ]
    },
    {
      "cell_type": "markdown",
      "metadata": {
        "id": "vbmr23B2rJKR"
      },
      "source": [
        "### Your Task"
      ]
    },
    {
      "cell_type": "markdown",
      "metadata": {
        "id": "e6vmpmj6Ylph"
      },
      "source": [
        "If our example trained correctly, you should notice a clear separation between the blue and red nodes.  Solely from the graph structure, node2vec could predict how the Zachary's Karate Club split!\n",
        "\n",
        "Tune the hyperparameters ```p``` and ```q```, and notice how they affect the resulting embeddings."
      ]
    },
    {
      "cell_type": "markdown",
      "source": [
        "When the Node2Vec model is trained correctly, the embeddings of Zachary’s Karate Club graph show a clear separation between the red and blue nodes, corresponding to the two groups (“Mr. Hi’s club” and the “Officer’s club”). This separation demonstrates that Node2Vec effectively captured the graph structure and predicted the split solely based on the graph’s connectivity.\n",
        "\n",
        "Tuning the hyperparameters  p  (return parameter) and  q  (in-out parameter) significantly affects the resulting embeddings. The parameter  p  controls the likelihood of revisiting a node during random walks:\n",
        "\n",
        "*   A higher  p  discourages revisiting nodes, promoting exploration of the graph’s broader structure, which emphasizes global relationships.\n",
        "*   A lower  p  increases the focus on local neighborhoods by encouraging revisits to the same nodes.\n",
        "\n",
        "The parameter  q  balances breadth-first search (BFS) and depth-first search (DFS) in the walks:\n",
        "\n",
        "*   A higher  q  encourages BFS, focusing on tightly connected neighborhoods, leading to well-defined clusters of nodes.\n",
        "*   A lower  q  encourages DFS, emphasizing long-range connections and global structural roles, which can reduce the clustering of local neighborhoods.\n",
        "\n",
        "By adjusting these parameters, the embeddings can shift focus between local community structures and global relationships, influencing how well-separated or overlapping the red and blue clusters appear in the 2D embedding space."
      ],
      "metadata": {
        "id": "BSvcwumbtj3M"
      }
    },
    {
      "cell_type": "markdown",
      "metadata": {
        "id": "x15OQeyys1xd"
      },
      "source": [
        "Now we will study the behavior of node2vec on [barbell graphs](https://mathworld.wolfram.com/BarbellGraph.html).\n",
        "\n",
        "Below you can see a toy example of a barbell graph generated with NetworkX."
      ]
    },
    {
      "cell_type": "code",
      "metadata": {
        "id": "xUYxs4E8aHgG",
        "colab": {
          "base_uri": "https://localhost:8080/",
          "height": 516
        },
        "outputId": "ea04b125-43c4-4f32-c998-f1e134d21c9f"
      },
      "source": [
        "toy_barbell = nx.barbell_graph(7, 0)\n",
        "nx.draw_kamada_kawai(toy_barbell)"
      ],
      "execution_count": 56,
      "outputs": [
        {
          "output_type": "display_data",
          "data": {
            "text/plain": [
              "<Figure size 640x480 with 1 Axes>"
            ],
            "image/png": "[encoded data removed]"
          },
          "metadata": {}
        }
      ]
    },
    {
      "cell_type": "markdown",
      "metadata": {
        "id": "G7K3-57FyD8D"
      },
      "source": [
        "Generate a larger barbell graph, where each complete graph has exactly 1000 nodes. Print graph information.\n",
        "\n",
        "Then, learn node2vec embeddings on this graph, setting ```p = 1, q = 1``` and ```d = 10```."
      ]
    },
    {
      "cell_type": "code",
      "metadata": {
        "id": "k_rmp-SvaIOt",
        "colab": {
          "base_uri": "https://localhost:8080/"
        },
        "outputId": "cc3140d3-a856-4337-a3dd-ba361293d301"
      },
      "source": [
        "# Generate a barbell graph with 1000 nodes in each complete graph\n",
        "barbell = nx.barbell_graph(1000, 0)\n",
        "\n",
        "print_graph_info(barbell, directed=False)\n",
        "\n",
        "n2v = Node2VecNew(p=1, q=1, d=10)\n",
        "n2v.fit(barbell)"
      ],
      "execution_count": 55,
      "outputs": [
        {
          "output_type": "stream",
          "name": "stdout",
          "text": [
            "Number of nodes: 2000\n",
            "Number of edges: 999001\n",
            "Average degree: 999.001\n",
            "Making walks... Done, T=1.01\n",
            "Mapping Walk Names... Done, T=0.93\n",
            "Training W2V... WARNING: gensim word2vec version is unoptimizedTry version 3.6 if on windows, versions 3.7 and 3.8 have had issues\n",
            "Done, T=46.64\n"
          ]
        }
      ]
    },
    {
      "cell_type": "markdown",
      "metadata": {
        "id": "fyxZBVwhzLQe"
      },
      "source": [
        "Write a function that takes as input a node id ```n``` in the graph and returns a list containining the cosine similarity between the node2vec vector of the input node ```n``` and all the nodes in the given barbell graph (including the similarity with ```n``` itself)."
      ]
    },
    {
      "cell_type": "code",
      "metadata": {
        "id": "aq7advtkjXSp"
      },
      "source": [
        "from sklearn.metrics.pairwise import cosine_similarity\n",
        "\n",
        "def compute_cosine_similarities(n, graph, model):\n",
        "\n",
        "    # Get the embedding of the target node `n`\n",
        "    target_vector = np.array(model.predict(n)).reshape(1, -1)\n",
        "\n",
        "    # Iterate through all nodes in the graph\n",
        "    similarities = []\n",
        "    for node in graph.nodes:\n",
        "        # Get the embedding of the current node\n",
        "        other_vector = np.array(model.predict(node)).reshape(1, -1)\n",
        "\n",
        "        # Compute cosine similarity between `n` and the current node\n",
        "        similarity = cosine_similarity(target_vector, other_vector)[0][0]\n",
        "        similarities.append(similarity)\n",
        "\n",
        "    # Return the list of similarities\n",
        "    return similarities"
      ],
      "execution_count": 57,
      "outputs": []
    },
    {
      "cell_type": "markdown",
      "source": [
        "Print the result of the function for n=5."
      ],
      "metadata": {
        "id": "hiQNWOCTk_2L"
      }
    },
    {
      "cell_type": "code",
      "source": [
        "n = 5\n",
        "similarities = compute_cosine_similarities(n, barbell, n2v)\n",
        "print(f\"Cosine similarities for node {n}: {similarities}\")"
      ],
      "metadata": {
        "id": "a80HHw4LlBq2",
        "colab": {
          "base_uri": "https://localhost:8080/"
        },
        "outputId": "388a0ebd-3356-427e-f023-1d13445d09ca"
      },
      "execution_count": 58,
      "outputs": [
        {
          "output_type": "stream",
          "name": "stdout",
          "text": [
            "Cosine similarities for node 5: [0.9301959, 0.93558216, 0.9552665, 0.95396113, 0.929624, 1.0, 0.90873694, 0.91356397, 0.9124921, 0.9270522, 0.955893, 0.97803414, 0.93089116, 0.9457448, 0.9476872, 0.9340877, 0.89277875, 0.9362558, 0.9456892, 0.89379555, 0.9454395, 0.9641656, 0.9663868, 0.93325585, 0.94031054, 0.9447041, 0.92941636, 0.89702636, 0.964904, 0.9161085, 0.9068998, 0.92320335, 0.931481, 0.93391156, 0.9755045, 0.9659221, 0.9468208, 0.9512329, 0.93750095, 0.942853, 0.9517185, 0.96661365, 0.91130894, 0.9572377, 0.98796064, 0.939432, 0.96432114, 0.93127996, 0.9449798, 0.98109746, 0.8928445, 0.9348282, 0.9690055, 0.94436926, 0.9001775, 0.94423616, 0.89645505, 0.9189555, 0.96146935, 0.9219907, 0.9231608, 0.9281704, 0.9515698, 0.95540416, 0.9618875, 0.9334758, 0.96334636, 0.9240489, 0.933989, 0.92951035, 0.8989425, 0.9706058, 0.92777276, 0.945739, 0.95000166, 0.9567394, 0.94152176, 0.91579705, 0.96530217, 0.943529, 0.89678735, 0.9337418, 0.9389083, 0.96029395, 0.9530516, 0.94792795, 0.93040615, 0.94953924, 0.95582247, 0.96466225, 0.9456932, 0.93805224, 0.9199582, 0.92736965, 0.9429736, 0.9432624, 0.96060795, 0.93129444, 0.9767354, 0.95940673, 0.93104357, 0.95769, 0.9695884, 0.93767637, 0.9060168, 0.9364429, 0.9455099, 0.9450869, 0.9624375, 0.9550445, 0.9342758, 0.9153558, 0.9723118, 0.9173511, 0.9449121, 0.9316781, 0.92190325, 0.92157906, 0.921418, 0.9428119, 0.94704366, 0.9444998, 0.96140313, 0.9160648, 0.9315562, 0.9748479, 0.9015498, 0.9797496, 0.96763843, 0.94418454, 0.99179715, 0.933383, 0.96722776, 0.9385952, 0.8963717, 0.9153462, 0.8626306, 0.958256, 0.9137642, 0.93841356, 0.90868366, 0.9798005, 0.9476864, 0.96366054, 0.9482849, 0.9400211, 0.94056535, 0.9152948, 0.9390689, 0.88477635, 0.9415456, 0.94355243, 0.92404497, 0.95528305, 0.9123469, 0.9400638, 0.93435264, 0.9116468, 0.9252402, 0.9589645, 0.93311, 0.9479538, 0.89573693, 0.90583646, 0.9690983, 0.9112488, 0.90334743, 0.8902353, 0.92123556, 0.89624715, 0.9353751, 0.9496277, 0.98946863, 0.95061684, 0.9289543, 0.96320206, 0.95268124, 0.9680097, 0.9331065, 0.96420795, 0.95408386, 0.97080517, 0.9369834, 0.93425715, 0.91648746, 0.937535, 0.9785504, 0.9643364, 0.919863, 0.92885387, 0.9425294, 0.9072764, 0.9546252, 0.89454514, 0.94970214, 0.9309077, 0.9710609, 0.933678, 0.95765275, 0.9504415, 0.9362687, 0.88153, 0.9359322, 0.9722075, 0.94566584, 0.9463811, 0.9697589, 0.92345166, 0.9692219, 0.96293724, 0.9367983, 0.9380763, 0.9561151, 0.9561977, 0.87814236, 0.9342775, 0.9524506, 0.93663836, 0.98010945, 0.9662708, 0.90661025, 0.92533433, 0.94796485, 0.944029, 0.952706, 0.9831691, 0.9595001, 0.9661367, 0.97304285, 0.9628845, 0.9092606, 0.92728806, 0.9292232, 0.95189524, 0.95435095, 0.95872897, 0.9610672, 0.93298876, 0.9405616, 0.9580878, 0.96638733, 0.9331749, 0.9608019, 0.9435699, 0.9598755, 0.95460707, 0.9390894, 0.9630061, 0.9666032, 0.9385075, 0.9410994, 0.9155074, 0.9314866, 0.9527965, 0.93028486, 0.93330127, 0.94642717, 0.95365185, 0.9697485, 0.91354126, 0.8943771, 0.9450213, 0.93006366, 0.9596519, 0.93540823, 0.94101584, 0.9315461, 0.9557028, 0.9452098, 0.97856176, 0.91813153, 0.96264166, 0.87363666, 0.97356176, 0.96702987, 0.9492249, 0.94258285, 0.9466872, 0.9455683, 0.96897614, 0.8465344, 0.9604925, 0.8854504, 0.9238007, 0.8854413, 0.87492394, 0.94319385, 0.9344724, 0.91133446, 0.94478947, 0.97316027, 0.9720822, 0.9876492, 0.9493787, 0.9160719, 0.9242161, 0.9475243, 0.83943295, 0.93566006, 0.9480591, 0.97871196, 0.9789134, 0.940806, 0.9587508, 0.9363055, 0.9428908, 0.95421463, 0.9205251, 0.95082915, 0.9656945, 0.9271002, 0.9471473, 0.9206679, 0.927969, 0.97267145, 0.9560398, 0.94206434, 0.9506348, 0.95105886, 0.97230005, 0.9598133, 0.9329224, 0.9800219, 0.96036243, 0.9472528, 0.90627736, 0.8735221, 0.9590524, 0.9249101, 0.91904396, 0.9706826, 0.9617005, 0.92487264, 0.9694439, 0.9627649, 0.8860453, 0.9565327, 0.9700902, 0.9466786, 0.933915, 0.93858266, 0.8812156, 0.94277376, 0.92926824, 0.95261824, 0.9198892, 0.94649684, 0.9730295, 0.9211956, 0.91067135, 0.90852183, 0.9690579, 0.97537494, 0.9676777, 0.96427333, 0.95216537, 0.96416765, 0.8732598, 0.94086987, 0.9534361, 0.9104801, 0.9471408, 0.93233544, 0.9396152, 0.9676528, 0.91273427, 0.93751645, 0.95418197, 0.92869693, 0.93502814, 0.9373682, 0.90025115, 0.9417401, 0.9317168, 0.9064543, 0.90672225, 0.95469344, 0.9661945, 0.9581374, 0.92150646, 0.9775963, 0.9252613, 0.9633336, 0.979525, 0.8919797, 0.9290443, 0.9090369, 0.949701, 0.9498163, 0.8945206, 0.9289374, 0.96552575, 0.96408486, 0.97068226, 0.9100172, 0.9277018, 0.95229965, 0.9190075, 0.98204523, 0.9535593, 0.9261916, 0.90910137, 0.9568468, 0.95869917, 0.94858956, 0.89273924, 0.9168014, 0.8845618, 0.9625384, 0.90904427, 0.89400303, 0.892071, 0.9573714, 0.9625338, 0.9588707, 0.9367927, 0.95412034, 0.9176328, 0.94479567, 0.93655795, 0.888955, 0.9846412, 0.91889524, 0.9099182, 0.934636, 0.94503665, 0.94859135, 0.94027895, 0.95134664, 0.97331053, 0.9383223, 0.9638214, 0.91915154, 0.9750638, 0.9764274, 0.9790096, 0.94914824, 0.9439181, 0.92221034, 0.95315963, 0.9327639, 0.965706, 0.9572999, 0.9750353, 0.94258475, 0.9525502, 0.9474939, 0.93150455, 0.93359834, 0.9576153, 0.9715623, 0.870236, 0.9700873, 0.9470191, 0.90558654, 0.9622397, 0.9654807, 0.9017497, 0.9522159, 0.931389, 0.9387079, 0.9043094, 0.96938807, 0.908008, 0.974741, 0.97371626, 0.97560626, 0.96147287, 0.94015807, 0.9335297, 0.94918776, 0.9336455, 0.9864006, 0.979978, 0.9575755, 0.91260386, 0.9681931, 0.94961256, 0.9515666, 0.93378776, 0.9327136, 0.9292007, 0.8926643, 0.9097759, 0.90195096, 0.9564433, 0.9554613, 0.952534, 0.946154, 0.96686447, 0.9087312, 0.9462994, 0.955528, 0.9490353, 0.9514967, 0.9618305, 0.9154047, 0.9572716, 0.950055, 0.94159734, 0.93376404, 0.9402057, 0.9013553, 0.95242876, 0.9354395, 0.9059701, 0.91247123, 0.9466358, 0.9021901, 0.94345933, 0.93331623, 0.9231241, 0.89447725, 0.9494237, 0.94145155, 0.946024, 0.94250846, 0.97759247, 0.937606, 0.9875073, 0.9367693, 0.9422631, 0.9610189, 0.95629, 0.93814206, 0.9337642, 0.92548466, 0.94508886, 0.9062837, 0.9471238, 0.9135958, 0.9810154, 0.9103191, 0.9344223, 0.96905273, 0.9521083, 0.8855751, 0.91645765, 0.93091416, 0.936214, 0.9205142, 0.91436875, 0.94502187, 0.9640768, 0.97361976, 0.9529641, 0.9396899, 0.92987984, 0.9382173, 0.9817042, 0.9631486, 0.9561243, 0.9429979, 0.9415191, 0.9644346, 0.9572069, 0.91808, 0.9201443, 0.9224676, 0.9814343, 0.96023446, 0.96855766, 0.95744795, 0.91083974, 0.9539211, 0.9043022, 0.92879015, 0.97685117, 0.9537337, 0.9289766, 0.94832826, 0.878753, 0.96352947, 0.9190217, 0.91634136, 0.95439404, 0.9388534, 0.9628964, 0.9665024, 0.97652936, 0.8815231, 0.9353737, 0.9426149, 0.91526043, 0.94699645, 0.9388276, 0.96037924, 0.9114732, 0.8945337, 0.92132, 0.88058096, 0.9697537, 0.9725183, 0.9098832, 0.93562424, 0.9638138, 0.8938969, 0.92333615, 0.9225153, 0.9276503, 0.9520767, 0.9663774, 0.9267235, 0.90565586, 0.92809504, 0.9468316, 0.90550697, 0.93131673, 0.9593231, 0.9096415, 0.92996514, 0.98567027, 0.94583666, 0.9337921, 0.9412112, 0.90464926, 0.9605688, 0.9414406, 0.87144357, 0.94524515, 0.9471383, 0.9137889, 0.9580372, 0.9265729, 0.9349229, 0.906827, 0.93785876, 0.97578377, 0.9570854, 0.95703727, 0.94117916, 0.95081013, 0.9571747, 0.9679284, 0.96380633, 0.94984055, 0.96285427, 0.9434313, 0.9301437, 0.9596982, 0.95170313, 0.9497295, 0.9148401, 0.966013, 0.942073, 0.9415069, 0.9135652, 0.94644517, 0.9493794, 0.9173529, 0.8731144, 0.9138045, 0.9057921, 0.90775156, 0.93500036, 0.91836566, 0.96301377, 0.92707044, 0.9564244, 0.95886034, 0.9483192, 0.92160785, 0.910381, 0.9257666, 0.96754616, 0.94033176, 0.9279461, 0.9443952, 0.9598843, 0.9356992, 0.97542447, 0.9516923, 0.85456145, 0.9484782, 0.95214576, 0.95165074, 0.9052575, 0.9433796, 0.9342078, 0.9174982, 0.91525644, 0.9456928, 0.8944802, 0.9322143, 0.9239077, 0.97521275, 0.89644784, 0.93594164, 0.9623797, 0.9619895, 0.9191157, 0.9448642, 0.91239995, 0.9615934, 0.8899916, 0.9663031, 0.9611322, 0.93674374, 0.9439513, 0.94154215, 0.9555248, 0.92482835, 0.95172954, 0.91037333, 0.9218122, 0.92870396, 0.9125308, 0.95943546, 0.93678313, 0.96412826, 0.9827758, 0.90851057, 0.973425, 0.96030235, 0.91657776, 0.9443758, 0.93669695, 0.96435875, 0.94979066, 0.9322775, 0.96080935, 0.9787718, 0.9604993, 0.9168368, 0.98770714, 0.9515881, 0.9339189, 0.9727552, 0.9736104, 0.91306883, 0.94817686, 0.9491643, 0.9638271, 0.93138754, 0.92962456, 0.95874774, 0.9556409, 0.9399003, 0.9232486, 0.94569606, 0.89623386, 0.96038526, 0.9575921, 0.95557964, 0.97555006, 0.9123294, 0.97942835, 0.9715337, 0.95995754, 0.92844313, 0.90210235, 0.9209344, 0.9795302, 0.8939005, 0.8744312, 0.9888089, 0.96974933, 0.9488919, 0.9754805, 0.9531154, 0.9060403, 0.97857016, 0.922569, 0.94473773, 0.9779523, 0.9679188, 0.94907874, 0.8701647, 0.96029955, 0.9812163, 0.92595243, 0.93616873, 0.94894123, 0.95444006, 0.9746449, 0.9636325, 0.92969984, 0.94060695, 0.9230923, 0.9085866, 0.9306836, 0.95823973, 0.9703621, 0.9430667, 0.94961023, 0.9565781, 0.9725733, 0.9677927, 0.96544147, 0.946267, 0.9645589, 0.94556403, 0.93515205, 0.9794334, 0.9156478, 0.9046032, 0.9128692, 0.895243, 0.94120145, 0.9288813, 0.9670017, 0.9729431, 0.92583895, 0.9696979, 0.9669499, 0.963086, 0.9596972, 0.8917134, 0.95040953, 0.93786305, 0.9543311, 0.92359585, 0.9397163, 0.93234205, 0.9281504, 0.94364214, 0.97243357, 0.98149246, 0.93041784, 0.9367519, 0.91551155, 0.962245, 0.9452023, 0.9212853, 0.9263435, 0.948474, 0.9540443, 0.8972651, 0.88159937, 0.92380697, 0.927422, 0.9041157, 0.91429913, 0.94714963, 0.94161195, 0.96406484, 0.9683688, 0.91125613, 0.92215663, 0.9634524, 0.95906156, 0.97053236, 0.9588849, 0.97303957, 0.8791369, 0.9358383, 0.97339666, 0.952452, 0.9775932, 0.92823327, 0.9282184, 0.95646214, 0.88587195, 0.9926635, 0.9672939, 0.93033767, 0.93040186, 0.9878165, 0.88899773, 0.9459712, 0.94156116, 0.95255136, 0.95505804, 0.98793805, 0.91256815, 0.94742584, 0.9187119, 0.91501224, 0.9480441, 0.9713528, 0.9585056, 0.9625122, 0.9696015, 0.9429778, 0.93610936, 0.97542477, 0.95981926, 0.9013184, 0.93743163, 0.9300811, 0.93170923, 0.93715394, 0.8824696, 0.977215, 0.9208783, 0.97474456, 0.9616462, 0.9507301, 0.8903323, 0.90699947, 0.9506955, 0.89825195, 0.9675769, 0.9202946, 0.96055907, 0.9482166, 0.9520218, 0.9441646, 0.9012203, 0.93045276, 0.91777146, 0.8666087, 0.9046275, 0.9749806, 0.92660517, 0.89629364, 0.9025734, 0.9415209, 0.91613066, 0.9676418, 0.9431663, 0.9268599, 0.929432, 0.9205253, 0.9266581, 0.950298, 0.912016, 0.9368786, 0.9769708, 0.9761623, 0.9514673, 0.93673354, 0.9515577, 0.943815, 0.9502305, 0.93587875, 0.93270814, 0.942704, 0.9711597, 0.9898853, 0.93219596, 0.9315613, 0.96034503, 0.93342006, 0.98521566, 0.9606818, 0.95084506, 0.9598263, 0.94828594, 0.9389947, 0.93035805, 0.9028572, 0.9413454, 0.9474198, 0.96008027, 0.93496794, 0.95124114, 0.9251031, 0.95051956, 0.8852928, 0.9784497, 0.8969337, 0.9278745, 0.91387534, 0.94297886, 0.9452637, 0.9732987, 0.9621801, 0.94966656, 0.9372127, 0.9591801, 0.8847421, 0.9247578, 0.9348636, 0.97379386, 0.93913865, 0.88158244, 0.95631754, 0.92812973, 0.9307141, 0.904328, 0.93954885, 0.9687328, 0.9334354, 0.9162572, 0.9894839, 0.9295585, 0.9159576, 0.93993175, 0.9464793, 0.95387363, 0.97191966, 0.95194936, 0.94064146, 0.94044805, 0.9700114, 0.9557402, 0.9559178, 0.94463193, 0.9478657, 0.9079702, 0.9677186, 0.96619105, 0.9547172, 0.9789113, 0.95052016, 0.8759517, 0.9860989, 0.9469542, 0.8991041, 0.14042912, 0.12222222, 0.118228756, 0.111584894, 0.09644746, 0.1350871, 0.08959601, 0.10637641, 0.10636516, 0.1301877, 0.15573534, 0.075841755, 0.09810123, 0.12299476, 0.10053978, 0.11650141, 0.11311849, 0.09051478, 0.118155375, 0.13040945, 0.1132244, 0.094028965, 0.13344155, 0.120578215, 0.11894124, 0.13303894, 0.11915742, 0.12324164, 0.12668383, 0.11367622, 0.08977614, 0.09730088, 0.12371971, 0.12517895, 0.15789989, 0.10397057, 0.076506846, 0.14265603, 0.084495924, 0.115113854, 0.092777066, 0.082620695, 0.14222296, 0.09845377, 0.123131566, 0.06733297, 0.10711158, 0.12859884, 0.12786518, 0.08313294, 0.12892665, 0.15130794, 0.09587902, 0.1226834, 0.06994541, 0.13244689, 0.14089073, 0.11447944, 0.12829986, 0.1353371, 0.12406558, 0.15560643, 0.05112023, 0.09196973, 0.1410752, 0.10977162, 0.12908609, 0.09746559, 0.06862351, 0.09098851, 0.13621362, 0.13803938, 0.10477333, 0.1381866, 0.1605913, 0.12424809, 0.104378276, 0.13201596, 0.060214005, 0.09521766, 0.12292656, 0.11247772, 0.12203674, 0.10201569, 0.14574207, 0.12823847, 0.120563194, 0.11093252, 0.11564717, 0.11139245, 0.131038, 0.09437755, 0.12583609, 0.1381481, 0.1332386, 0.094166964, 0.11204966, 0.12688136, 0.14031874, 0.097661085, 0.12152868, 0.11877324, 0.0881746, 0.07733264, 0.12355396, 0.12077212, 0.12899008, 0.087779075, 0.12307577, 0.084455006, 0.089614615, 0.099674046, 0.09094796, 0.14962135, 0.12605436, 0.14565751, 0.12320352, 0.133362, 0.08802537, 0.07455801, 0.053990394, 0.08569136, 0.12500665, 0.08829513, 0.08786178, 0.074036576, 0.09903699, 0.10489068, 0.12811273, 0.10315255, 0.1282136, 0.13789012, 0.09874608, 0.13861749, 0.07085702, 0.078522906, 0.14440747, 0.10972096, 0.116139874, 0.07842743, 0.107326925, 0.14137247, 0.07047565, 0.13308913, 0.10430986, 0.11894313, 0.09584456, 0.096149236, 0.15203953, 0.11415054, 0.099776775, 0.101840645, 0.12682581, 0.12464437, 0.11350905, 0.11705368, 0.14476334, 0.06702878, 0.09729712, 0.08859538, 0.11995365, 0.14150763, 0.07693, 0.097636156, 0.09250637, 0.09483181, 0.12449159, 0.117004216, 0.112954065, 0.14025313, 0.1354714, 0.08933103, 0.1348234, 0.14772116, 0.09130063, 0.11283811, 0.092640534, 0.08375955, 0.12049173, 0.10967017, 0.12726252, 0.11194332, 0.11505023, 0.10250163, 0.11106134, 0.15118246, 0.15519275, 0.14301352, 0.10435313, 0.10400213, 0.10640334, 0.12248882, 0.13136928, 0.098701686, 0.13753316, 0.11562871, 0.14878799, 0.094284706, 0.10017312, 0.11791882, 0.12217589, 0.124894254, 0.13725996, 0.13474959, 0.0772566, 0.095964134, 0.09154909, 0.10291144, 0.14789732, 0.12012661, 0.12642644, 0.10373029, 0.13837242, 0.094149135, 0.16359311, 0.12516125, 0.1145487, 0.11114951, 0.13469797, 0.118967034, 0.13603975, 0.10116278, 0.13599424, 0.12943983, 0.12652765, 0.12762189, 0.11112587, 0.1289102, 0.111184135, 0.11997705, 0.14591722, 0.11336996, 0.09663995, 0.10129674, 0.0803783, 0.07192388, 0.08902971, 0.13286375, 0.12662762, 0.12932761, 0.10857841, 0.14981495, 0.06823721, 0.122163035, 0.14818926, 0.097278245, 0.08884473, 0.070783794, 0.084009916, 0.1389091, 0.16247115, 0.10766583, 0.12487882, 0.098345466, 0.11908244, 0.091472305, 0.115807965, 0.118860826, 0.09736372, 0.14027625, 0.12483976, 0.12282993, 0.120408244, 0.088285945, 0.11742586, 0.15520184, 0.13022774, 0.11844249, 0.1371128, 0.09857671, 0.14758565, 0.14264157, 0.10536577, 0.10804897, 0.118724614, 0.13272323, 0.12196624, 0.12551704, 0.12936512, 0.09969044, 0.10762531, 0.13076398, 0.108243175, 0.11866738, 0.08355429, 0.117346875, 0.112886086, 0.14128754, 0.10279567, 0.16237684, 0.12739472, 0.0985838, 0.13114218, 0.11560007, 0.11935417, 0.08704079, 0.1368067, 0.11914931, 0.11844999, 0.12122323, 0.13077524, 0.09692586, 0.136344, 0.110643886, 0.113263376, 0.12979688, 0.11898984, 0.116652295, 0.13017575, 0.11958069, 0.08352641, 0.13074394, 0.14063334, 0.11486279, 0.13869424, 0.13974653, 0.14327063, 0.119208865, 0.15347783, 0.1371343, 0.11536496, 0.119397685, 0.08301773, 0.11127172, 0.0946553, 0.092983454, 0.11320638, 0.08098174, 0.16955063, 0.11551565, 0.13410842, 0.069900826, 0.12512523, 0.11167223, 0.11114617, 0.117540136, 0.1650256, 0.13940784, 0.064452104, 0.1163968, 0.101529114, 0.110448755, 0.11018552, 0.15529197, 0.1058107, 0.13039084, 0.11772496, 0.127931, 0.117984995, 0.111205176, 0.16088927, 0.121888, 0.12093142, 0.123426974, 0.122318536, 0.116094045, 0.1066495, 0.110366404, 0.1361318, 0.10216572, 0.10570101, 0.13456278, 0.13746239, 0.13529581, 0.11153524, 0.15289217, 0.09006983, 0.11204992, 0.13148405, 0.13040134, 0.07913094, 0.10305683, 0.1668531, 0.10557305, 0.10116991, 0.13118345, 0.091079384, 0.12223872, 0.116456546, 0.10745313, 0.122146115, 0.097551376, 0.13909107, 0.12646903, 0.08160036, 0.1154299, 0.14693318, 0.09739275, 0.08776424, 0.091917075, 0.11181987, 0.14621244, 0.12723634, 0.10580977, 0.11916082, 0.09482424, 0.13758136, 0.12579466, 0.11263748, 0.094312325, 0.13822617, 0.13003726, 0.14284313, 0.10635584, 0.12194553, 0.11239971, 0.16272742, 0.09933429, 0.072096966, 0.10919435, 0.11085236, 0.1295864, 0.09247118, 0.07473501, 0.09108974, 0.13288623, 0.14895119, 0.13192038, 0.10484968, 0.121479295, 0.11382919, 0.09894905, 0.112216406, 0.12825198, 0.13035446, 0.10048963, 0.10836204, 0.11588575, 0.10674137, 0.10255494, 0.098004304, 0.121986344, 0.13358153, 0.10899564, 0.10939033, 0.12162441, 0.11190555, 0.1472907, 0.11750546, 0.08982047, 0.091079466, 0.08775791, 0.10748494, 0.09932934, 0.13628876, 0.09992692, 0.1347581, 0.107621685, 0.14963326, 0.12885351, 0.12847558, 0.15895939, 0.11934279, 0.1355357, 0.1084971, 0.16219528, 0.1431104, 0.12121366, 0.119120486, 0.15435499, 0.14425215, 0.15155713, 0.14648898, 0.09761326, 0.106156096, 0.11470982, 0.117388576, 0.11616333, 0.09814285, 0.12269419, 0.11237038, 0.16084808, 0.10429679, 0.11606706, 0.11501659, 0.08617338, 0.08391313, 0.12593229, 0.13238664, 0.10802603, 0.118458375, 0.15629254, 0.11811774, 0.10015181, 0.096845865, 0.1269638, 0.13519278, 0.1284305, 0.123718575, 0.13028488, 0.14137179, 0.12038263, 0.13749549, 0.10715443, 0.09962386, 0.11824405, 0.11831737, 0.115797564, 0.13167863, 0.1296767, 0.13796963, 0.13613573, 0.09672827, 0.119248964, 0.09687489, 0.13511872, 0.120048, 0.07884891, 0.12629426, 0.0809791, 0.14190376, 0.113985464, 0.12647028, 0.13240553, 0.11245967, 0.12326728, 0.1063058, 0.124622084, 0.12410633, 0.11343771, 0.09495199, 0.11389678, 0.11504222, 0.11408569, 0.08159482, 0.13684341, 0.101223476, 0.14338836, 0.1199239, 0.12824625, 0.085063085, 0.11991565, 0.11776838, 0.120958716, 0.14682192, 0.13456891, 0.10439811, 0.13008128, 0.121021524, 0.081735075, 0.13347925, 0.11627693, 0.13972677, 0.12588836, 0.14883664, 0.10326429, 0.12841271, 0.10434279, 0.10847214, 0.1258349, 0.12790062, 0.10225414, 0.09535497, 0.15794332, 0.14659771, 0.0947001, 0.12869853, 0.10798188, 0.10788749, 0.152236, 0.1291774, 0.13146268, 0.15446651, 0.14120147, 0.09599798, 0.054447643, 0.09484882, 0.16202635, 0.13080934, 0.10857299, 0.13350135, 0.09135339, 0.12409097, 0.09261818, 0.08342107, 0.1296775, 0.13407144, 0.115048215, 0.10982784, 0.099925175, 0.15406491, 0.120876566, 0.13578331, 0.13780347, 0.13291982, 0.12913366, 0.097120985, 0.13377316, 0.108147934, 0.12700884, 0.098515846, 0.14897937, 0.13788079, 0.08090079, 0.10642333, 0.123051286, 0.103622995, 0.11077352, 0.10977779, 0.13338876, 0.1292124, 0.0999675, 0.1080669, 0.14395042, 0.10425424, 0.15275826, 0.121499345, 0.12570001, 0.08302872, 0.13680167, 0.13438115, 0.09621963, 0.11768942, 0.14270112, 0.1403571, 0.11086585, 0.12485624, 0.1040578, 0.11523455, 0.12461682, 0.16458048, 0.0990931, 0.10916806, 0.09258962, 0.07435532, 0.15036121, 0.14136794, 0.13978368, 0.10383742, 0.09287328, 0.08607737, 0.13986883, 0.14631552, 0.058936324, 0.11378316, 0.14694075, 0.1278484, 0.14367115, 0.09266169, 0.12524529, 0.10849658, 0.13765946, 0.100821294, 0.11480994, 0.11148767, 0.11927237, 0.094343856, 0.17108448, 0.12740129, 0.1096115, 0.10721254, 0.106166504, 0.1006233, 0.075366944, 0.109903, 0.11742677, 0.13029723, 0.1594806, 0.12248603, 0.1051874, 0.110511065, 0.13723202, 0.09416013, 0.11180965, 0.105334744, 0.09020824, 0.10167265, 0.07198824, 0.08756818, 0.101878576, 0.14804637, 0.1251714, 0.098545775, 0.10846207, 0.14012513, 0.07839497, 0.06578925, 0.14149773, 0.1154898, 0.11328437, 0.15067087, 0.11935854, 0.11424437, 0.09150213, 0.14838643, 0.113245666, 0.14402995, 0.11247414, 0.14337593, 0.05905534, 0.12345706, 0.15873525, 0.111783706, 0.13071863, 0.13835222, 0.17082493, 0.11837781, 0.11148039, 0.13540362, 0.1621835, 0.14009349, 0.11140417, 0.113159284, 0.12274884, 0.11623463, 0.12007569, 0.15032485, 0.08812804, 0.13124534, 0.1260347, 0.13648036, 0.10093285, 0.14192986, 0.12443321, 0.11963444, 0.108858466, 0.08692485, 0.08335748, 0.10062437, 0.12149788, 0.15734744, 0.14300531, 0.09865027, 0.13456291, 0.10054133, 0.16241127, 0.11141636, 0.07260749, 0.13949025, 0.13695149, 0.104991496, 0.14091876, 0.14433251, 0.12345732, 0.10847431, 0.097921595, 0.08684304, 0.099029526, 0.1244321, 0.10396804, 0.10178793, 0.1374499, 0.120717965, 0.12923245, 0.12841853, 0.12491111, 0.12503852, 0.122060284, 0.13266236, 0.15461065, 0.10980459, 0.1244136, 0.1302198, 0.11540629, 0.122083925, 0.14306933, 0.1184294, 0.13894412, 0.079217486, 0.09873034, 0.12839596, 0.12327733, 0.123243265, 0.1340486, 0.12820725, 0.12256032, 0.08836881, 0.10581238, 0.12360532, 0.07274978, 0.14228092, 0.08734311, 0.09518763, 0.13208579, 0.13060413, 0.12104132, 0.116467066, 0.112170726, 0.10706745, 0.11026118, 0.14241381, 0.14568241, 0.11752918, 0.10678986, 0.10601363, 0.12463416, 0.10099055, 0.09035562, 0.10722269, 0.107847646, 0.07600624, 0.10654966, 0.10731455, 0.12434194, 0.12161932, 0.15131408, 0.12265875, 0.12498896, 0.097368985, 0.11507177, 0.1667147, 0.14213203, 0.11099194, 0.09112046, 0.15388176, 0.14864212, 0.110023126, 0.08800483, 0.12172506, 0.12609565, 0.122618474, 0.07776157, 0.109942965, 0.07140128, 0.1287467, 0.10221939, 0.11014164, 0.124112226, 0.13941099, 0.13741502, 0.10314915, 0.10953432, 0.11793482, 0.10336687, 0.14706394, 0.1304794, 0.121694356, 0.10705551, 0.08458853, 0.13267937, 0.12244721, 0.122925535, 0.122026086, 0.11432982, 0.14483498, 0.09750327, 0.09360495, 0.115845025, 0.120723404, 0.13067499, 0.13794316, 0.119990095, 0.09841431, 0.14381988, 0.14078823, 0.115843296, 0.063958906, 0.12420223, 0.14721268, 0.12163043, 0.11656694, 0.14262073, 0.1573413, 0.094484806, 0.13484396, 0.12301596, 0.12374926, 0.12339622, 0.13577612, 0.11659684, 0.1250062, 0.10692669, 0.14817828, 0.089411415, 0.08935149, 0.12060701, 0.089342825, 0.10900385, 0.16244924, 0.08574997, 0.11364158, 0.12671365, 0.14134564, 0.13095944, 0.10578228, 0.16089095, 0.095930524, 0.15586498, 0.08504924, 0.14096387, 0.13267243, 0.087549336, 0.123198174, 0.112583905, 0.116756275, 0.11249013, 0.13525893, 0.12779589, 0.075668275, 0.112363234, 0.12007737, 0.08766864, 0.12995231, 0.13525836, 0.1136016, 0.13274586, 0.13801272, 0.115001835, 0.12692465, 0.12712204, 0.14642361, 0.13967203, 0.11505181, 0.12149717, 0.09656017, 0.07485735, 0.1378098, 0.12171814, 0.13261138, 0.12805384, 0.11389434, 0.13593015, 0.15823044, 0.11225623, 0.09322367, 0.1336256, 0.13838431, 0.10579719, 0.11490366, 0.09217731, 0.12358992, 0.1515784, 0.123364165, 0.116191, 0.10729245, 0.14844336, 0.112147786, 0.1117031, 0.1183873, 0.13164593, 0.10484762, 0.07106704, 0.13939914, 0.14730696, 0.14316651, 0.118229866, 0.13807252, 0.14301752, 0.1456144, 0.11671076, 0.14725298, 0.12087748, 0.14165397, 0.16339134, 0.124449804, 0.11927071, 0.09623991, 0.091196865, 0.1596534, 0.10443109, 0.1147264, 0.15643965, 0.12699719, 0.12324265, 0.091629185, 0.105351746, 0.13465317, 0.13558169, 0.08785081, 0.08136041, 0.101761155, 0.09721457, 0.13735075, 0.12757945, 0.11339935, 0.14859615, 0.09600626, 0.13679388, 0.13042793, 0.09325787, 0.1564977, 0.13280539, 0.1385497, 0.06479642, 0.08392658, 0.11493542, 0.12194885, 0.10820547, 0.1423507, 0.09673862, 0.12085362, 0.11194616, 0.07999687, 0.12575743, 0.12148298, 0.07965543, 0.10054154, 0.10642585, 0.098147854, 0.09678953, 0.14328352, 0.12744424, 0.1312235, 0.09989186, 0.117780745, 0.101846255, 0.13350536, 0.16627571, 0.1724924, 0.063836984]\n"
          ]
        }
      ]
    },
    {
      "cell_type": "markdown",
      "source": [
        "Write the function to compute the number of nodes in the graph whose embeddings have exactly 1000 neighbors with a cosine similarity greater than 0.8. Print the result."
      ],
      "metadata": {
        "id": "YDRJQw_0lfUN"
      }
    },
    {
      "cell_type": "code",
      "source": [
        "from sklearn.preprocessing import normalize\n",
        "\n",
        "def count_nodes_with_high_similarity(graph, model, similarity_threshold, neighbor_count):\n",
        "\n",
        "    # Pre-compute embeddings for all nodes\n",
        "    node_list = list(graph.nodes)\n",
        "    embedding_matrix = np.array([model.predict(node) for node in node_list])\n",
        "    embedding_matrix = normalize(embedding_matrix, axis=1)\n",
        "\n",
        "    # Print embedding matrix shape and inspect the first embedding\n",
        "    # print(f\"Embedding matrix shape: {embedding_matrix.shape}\")\n",
        "    # print(f\"First embedding (node {node_list[0]}): {embedding_matrix[0]}\")\n",
        "\n",
        "    # Compute cosine similarity matrix\n",
        "    similarity_matrix = cosine_similarity(embedding_matrix, embedding_matrix)\n",
        "\n",
        "    # Debug: Print similarity matrix shape and inspect its first row\n",
        "    # print(f\"Similarity matrix shape: {similarity_matrix.shape}\")\n",
        "    # print(f\"First row of similarity matrix: {similarity_matrix[0]}\")\n",
        "    # print(f\"Self-similarity of first node: {similarity_matrix[0, 0]}\")\n",
        "\n",
        "    # Count nodes with required neighbors\n",
        "    count = 0\n",
        "    for i in range(similarity_matrix.shape[0]):\n",
        "        # Get the row corresponding to the current node's similarities\n",
        "        row_similarities = similarity_matrix[i]\n",
        "\n",
        "        # Count neighbors with similarity > threshold, excluding self-similarity\n",
        "        high_similarity_neighbors = np.sum(row_similarities > similarity_threshold) - 1 # Exclude self\n",
        "\n",
        "        # Debug: Inspect high-similarity neighbors count for each node\n",
        "        # print(f\"Node {node_list[i]} has {high_similarity_neighbors} neighbors with similarity > {similarity_threshold}\")\n",
        "\n",
        "        # Check if the count matches the required neighbor count\n",
        "        if high_similarity_neighbors == neighbor_count:\n",
        "            print(f\"Node {node_list[i]} satisfies the condition.\")\n",
        "            count += 1\n",
        "\n",
        "    # Debug: Print the final count\n",
        "    # print(f\"Total nodes satisfying the condition: {count}\")\n",
        "    return count\n",
        "\n",
        "result = count_nodes_with_high_similarity(barbell, n2v, similarity_threshold=0.8, neighbor_count=1000)\n",
        "print(f\"Number of nodes with exactly 1000 neighbors having cosine similarity > 0.8: {result}\")"
      ],
      "metadata": {
        "id": "-_61_pwOjMsk",
        "colab": {
          "base_uri": "https://localhost:8080/"
        },
        "outputId": "6930fa65-098c-433b-96f5-9d4738b40c41"
      },
      "execution_count": 59,
      "outputs": [
        {
          "output_type": "stream",
          "name": "stdout",
          "text": [
            "Number of nodes with exactly 1000 neighbors having cosine similarity > 0.8: 0\n"
          ]
        }
      ]
    },
    {
      "cell_type": "markdown",
      "metadata": {
        "id": "zw1oNDDD2dZO"
      },
      "source": [
        "Generate another barbell graph, this time adding a path of length 51 between\n",
        "\n",
        "---\n",
        "\n",
        "the two complete graphs and print graph information. To find out how, refer to the NetworkX documentation: [https://networkx.github.io/documentation/stable/reference/\n",
        "\n",
        "---\n",
        "\n",
        "generated/networkx.generators.classic.barbell_graph.html#networkx.generators.classic.barbell_graph](https://networkx.github.io/documentation/stable/reference/generated/networkx.generators.classic.barbell_graph.html#networkx.generators.classic.barbell_graph)\n",
        "\n",
        "Learn the node2vec embeddings for the nodes of this new graph, using the same hyperparameters as before."
      ]
    },
    {
      "cell_type": "code",
      "metadata": {
        "id": "Wrv5Eyba3NM0",
        "colab": {
          "base_uri": "https://localhost:8080/"
        },
        "outputId": "27476ba3-024d-418c-bfaf-487ce84850f7"
      },
      "source": [
        "# Generate a barbell graph with 1000 nodes in each clique and a path of length 51\n",
        "barbell_with_path = nx.barbell_graph(1000, 51)\n",
        "print_graph_info(barbell_with_path, directed=False)\n",
        "\n",
        "# Learn Node2Vec embeddings using the same hyperparameters as before\n",
        "n2v_with_path = Node2VecNew(p=1, q=1, d=10)\n",
        "n2v_with_path.fit(barbell_with_path)\n",
        "\n",
        "# Calculate embeddings for all nodes and store them\n",
        "node_embeddings = {node: n2v_with_path.predict(node) for node in barbell_with_path.nodes}\n",
        "\n",
        "# Debug: Print embedding for the first node as an example\n",
        "print(f\"Embedding for node 0: {node_embeddings[0]}\")\n",
        "\n",
        "print(\"Node2Vec embeddings calculated and stored for all nodes in the barbell graph with a path of length 51.\")"
      ],
      "execution_count": 61,
      "outputs": [
        {
          "output_type": "stream",
          "name": "stdout",
          "text": [
            "Number of nodes: 2051\n",
            "Number of edges: 999052\n",
            "Average degree: 974.2096538274012\n",
            "Making walks... Done, T=0.96\n",
            "Mapping Walk Names... Done, T=0.92\n",
            "Training W2V... WARNING: gensim word2vec version is unoptimizedTry version 3.6 if on windows, versions 3.7 and 3.8 have had issues\n",
            "Done, T=27.53\n",
            "Embedding for node 0: [ 0.6775577  -0.24400187 -0.6840097  -0.2041079   0.04405524  0.90734\n",
            "  0.92438936 -1.1609783  -1.5293825   0.18121839]\n",
            "Node2Vec embeddings calculated and stored for all nodes in the barbell graph with a path of length 51.\n"
          ]
        }
      ]
    },
    {
      "cell_type": "markdown",
      "source": [
        "Print the number of nodes in the graph whose embeddings have exactly 1000 neighbors with a cosine similarity greater than 0.8."
      ],
      "metadata": {
        "id": "GmPOyTc2m0CD"
      }
    },
    {
      "cell_type": "code",
      "source": [
        "print(count_nodes_with_high_similarity(barbell_with_path, n2v_with_path, similarity_threshold=0.8, neighbor_count=1000))"
      ],
      "metadata": {
        "colab": {
          "base_uri": "https://localhost:8080/"
        },
        "id": "8AtEbVAVmzcW",
        "outputId": "a903cf44-45f3-4e82-883a-c23aaa5c66d9"
      },
      "execution_count": 62,
      "outputs": [
        {
          "output_type": "stream",
          "name": "stdout",
          "text": [
            "0\n"
          ]
        }
      ]
    },
    {
      "cell_type": "markdown",
      "source": [
        "Write a function to compute the number of nodes in the graph whose embeddings have less than 100 neighbors with a cosine similarity greater than 0.8. Print the result."
      ],
      "metadata": {
        "id": "3lUuA_4MoTG6"
      }
    },
    {
      "cell_type": "code",
      "source": [
        "def count_nodes_with_few_high_similarity(graph, model, similarity_threshold, max_neighbors):\n",
        "\n",
        "    # Pre-compute embeddings for all nodes\n",
        "    node_list = list(graph.nodes)\n",
        "    embedding_matrix = np.array([model.predict(node) for node in node_list])\n",
        "    embedding_matrix = embedding_matrix / np.linalg.norm(embedding_matrix, axis=1, keepdims=True)  # Normalize\n",
        "\n",
        "    # Compute cosine similarity matrix\n",
        "    similarity_matrix = cosine_similarity(embedding_matrix, embedding_matrix)\n",
        "\n",
        "    # Count nodes with less than max_neighbors above threshold\n",
        "    count = 0\n",
        "    for i in range(similarity_matrix.shape[0]):\n",
        "        # Get the row corresponding to the current node's similarities\n",
        "        row_similarities = similarity_matrix[i]\n",
        "\n",
        "        # Count neighbors with similarity > threshold, excluding self-similarity\n",
        "        high_similarity_neighbors = np.sum(row_similarities > similarity_threshold) - 1  # Exclude self\n",
        "\n",
        "        # Check if the count is less than max_neighbors\n",
        "        if high_similarity_neighbors < max_neighbors:\n",
        "            count += 1\n",
        "\n",
        "    return count\n",
        "\n",
        "result = count_nodes_with_few_high_similarity(barbell_with_path, n2v_with_path, similarity_threshold=0.8, max_neighbors=100)\n",
        "print(f\"Number of nodes with less than 100 neighbors having cosine similarity > 0.8: {result}\")"
      ],
      "metadata": {
        "id": "dAth5AnbnOc7",
        "colab": {
          "base_uri": "https://localhost:8080/"
        },
        "outputId": "e70ef7bd-bb64-4227-a5d8-bcb31306e93d"
      },
      "execution_count": 63,
      "outputs": [
        {
          "output_type": "stream",
          "name": "stdout",
          "text": [
            "Number of nodes with less than 100 neighbors having cosine similarity > 0.8: 53\n"
          ]
        }
      ]
    },
    {
      "cell_type": "markdown",
      "source": [
        "Provide analysis how changing the parameters p, q and d affect the results."
      ],
      "metadata": {
        "id": "43gO2iQSdq83"
      }
    },
    {
      "cell_type": "markdown",
      "source": [
        "The parameters  p ,  q , and  d  in the Node2Vec model significantly influence the quality of the learned embeddings and the resulting similarity metrics. The parameter  p  controls the likelihood of revisiting the previous node during random walks. A low  p  encourages outward exploration, capturing global graph structure, while a high  p  focuses on local connectivity by revisiting nearby nodes. Adjusting  p  directly impacts the balance between global and local features in the embeddings.\n",
        "\n",
        "Similarly,  q  determines the probability of moving closer or farther from the current node. A low  q  promotes exploration of distant nodes, capturing broader structural properties, whereas a high  q  biases the embeddings towards encoding local neighborhoods. A mismatch between  p  and  q  can lead to embeddings that overemphasize either local or global graph structures, which may reduce their utility for tasks like clustering or similarity computations.\n",
        "\n",
        "Finally, the embedding dimensionality  d  plays a critical role in how much graph information is encoded. A low  d  may lead to underfitting, where embeddings fail to represent the graph’s complexity, resulting in poor similarity scores. On the other hand, a high  d  allows for richer representations but risks introducing noise or redundancy. The optimal choice of  d  balances representational capacity with computational efficiency, ensuring embeddings are both effective and scalable."
      ],
      "metadata": {
        "id": "4fXEt2HadtAL"
      }
    },
    {
      "cell_type": "markdown",
      "source": [
        "Write a paragraph of conclusions below summarizing your insights."
      ],
      "metadata": {
        "id": "X1greYqFqGTg"
      }
    },
    {
      "cell_type": "markdown",
      "source": [
        "The Node2Vec parameters  p ,  q , and  d  play a crucial role in tailoring the embeddings to the graph structure and the specific analysis task. A proper balance between  p  and  q  ensures that the embeddings effectively capture both local and global graph properties. Meanwhile, choosing an appropriate dimensionality  d  is essential to avoid overfitting or underfitting. In practice, these parameters should be tuned through experimentation, guided by the graph’s topology and the downstream tasks. Understanding and adjusting these parameters can significantly enhance the quality of insights derived from node embeddings, making Node2Vec a versatile tool for graph-based learning tasks."
      ],
      "metadata": {
        "id": "L57G6xAhqHob"
      }
    },
    {
      "cell_type": "markdown",
      "metadata": {
        "id": "SIrXJyVNP2AI"
      },
      "source": [
        "Once you have working code for each cell above, **head over to eClass and submit your solution for this Colab**!\n"
      ]
    }
  ]
}