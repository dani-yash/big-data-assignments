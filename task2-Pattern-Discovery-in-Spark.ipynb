{
  "nbformat": 4,
  "nbformat_minor": 0,
  "metadata": {
    "colab": {
      "provenance": []
    },
    "kernelspec": {
      "name": "python3",
      "display_name": "Python 3"
    }
  },
  "cells": [
    {
      "cell_type": "markdown",
      "metadata": {
        "id": "kPt5q27L5557"
      },
      "source": [
        "# EECS 4415 - Task 2\n",
        "## Pattern Discovery in Spark"
      ]
    },
    {
      "cell_type": "markdown",
      "source": [],
      "metadata": {
        "id": "TQg_sEsoXXPG"
      }
    },
    {
      "cell_type": "markdown",
      "metadata": {
        "id": "p0-YhEpP_Ds-"
      },
      "source": [
        "### Setup"
      ]
    },
    {
      "cell_type": "markdown",
      "metadata": {
        "id": "Zsj5WYpR9QId"
      },
      "source": [
        "Let's set up Spark on your Colab environment.  Run the cell below!"
      ]
    },
    {
      "cell_type": "code",
      "metadata": {
        "id": "k-qHai2252mI",
        "colab": {
          "base_uri": "https://localhost:8080/",
          "height": 0
        },
        "outputId": "fba18eed-7f7f-440d-dbde-98be6dc56816"
      },
      "source": [
        "!pip install pyspark\n",
        "!pip install -U -q PyDrive\n",
        "!apt install openjdk-8-jdk-headless -qq\n",
        "import os\n",
        "os.environ[\"JAVA_HOME\"] = \"/usr/lib/jvm/java-8-openjdk-amd64\""
      ],
      "execution_count": 2,
      "outputs": [
        {
          "output_type": "stream",
          "name": "stdout",
          "text": [
            "Requirement already satisfied: pyspark in /usr/local/lib/python3.10/dist-packages (3.5.3)\n",
            "Requirement already satisfied: py4j==0.10.9.7 in /usr/local/lib/python3.10/dist-packages (from pyspark) (0.10.9.7)\n",
            "The following additional packages will be installed:\n",
            "  libxtst6 openjdk-8-jre-headless\n",
            "Suggested packages:\n",
            "  openjdk-8-demo openjdk-8-source libnss-mdns fonts-dejavu-extra fonts-nanum fonts-ipafont-gothic\n",
            "  fonts-ipafont-mincho fonts-wqy-microhei fonts-wqy-zenhei fonts-indic\n",
            "The following NEW packages will be installed:\n",
            "  libxtst6 openjdk-8-jdk-headless openjdk-8-jre-headless\n",
            "0 upgraded, 3 newly installed, 0 to remove and 49 not upgraded.\n",
            "Need to get 39.6 MB of archives.\n",
            "After this operation, 144 MB of additional disk space will be used.\n",
            "Selecting previously unselected package libxtst6:amd64.\n",
            "(Reading database ... 123622 files and directories currently installed.)\n",
            "Preparing to unpack .../libxtst6_2%3a1.2.3-1build4_amd64.deb ...\n",
            "Unpacking libxtst6:amd64 (2:1.2.3-1build4) ...\n",
            "Selecting previously unselected package openjdk-8-jre-headless:amd64.\n",
            "Preparing to unpack .../openjdk-8-jre-headless_8u422-b05-1~22.04_amd64.deb ...\n",
            "Unpacking openjdk-8-jre-headless:amd64 (8u422-b05-1~22.04) ...\n",
            "Selecting previously unselected package openjdk-8-jdk-headless:amd64.\n",
            "Preparing to unpack .../openjdk-8-jdk-headless_8u422-b05-1~22.04_amd64.deb ...\n",
            "Unpacking openjdk-8-jdk-headless:amd64 (8u422-b05-1~22.04) ...\n",
            "Setting up libxtst6:amd64 (2:1.2.3-1build4) ...\n",
            "Setting up openjdk-8-jre-headless:amd64 (8u422-b05-1~22.04) ...\n",
            "update-alternatives: using /usr/lib/jvm/java-8-openjdk-amd64/jre/bin/orbd to provide /usr/bin/orbd (orbd) in auto mode\n",
            "update-alternatives: using /usr/lib/jvm/java-8-openjdk-amd64/jre/bin/servertool to provide /usr/bin/servertool (servertool) in auto mode\n",
            "update-alternatives: using /usr/lib/jvm/java-8-openjdk-amd64/jre/bin/tnameserv to provide /usr/bin/tnameserv (tnameserv) in auto mode\n",
            "Setting up openjdk-8-jdk-headless:amd64 (8u422-b05-1~22.04) ...\n",
            "update-alternatives: using /usr/lib/jvm/java-8-openjdk-amd64/bin/clhsdb to provide /usr/bin/clhsdb (clhsdb) in auto mode\n",
            "update-alternatives: using /usr/lib/jvm/java-8-openjdk-amd64/bin/extcheck to provide /usr/bin/extcheck (extcheck) in auto mode\n",
            "update-alternatives: using /usr/lib/jvm/java-8-openjdk-amd64/bin/hsdb to provide /usr/bin/hsdb (hsdb) in auto mode\n",
            "update-alternatives: using /usr/lib/jvm/java-8-openjdk-amd64/bin/idlj to provide /usr/bin/idlj (idlj) in auto mode\n",
            "update-alternatives: using /usr/lib/jvm/java-8-openjdk-amd64/bin/javah to provide /usr/bin/javah (javah) in auto mode\n",
            "update-alternatives: using /usr/lib/jvm/java-8-openjdk-amd64/bin/jhat to provide /usr/bin/jhat (jhat) in auto mode\n",
            "update-alternatives: using /usr/lib/jvm/java-8-openjdk-amd64/bin/jsadebugd to provide /usr/bin/jsadebugd (jsadebugd) in auto mode\n",
            "update-alternatives: using /usr/lib/jvm/java-8-openjdk-amd64/bin/native2ascii to provide /usr/bin/native2ascii (native2ascii) in auto mode\n",
            "update-alternatives: using /usr/lib/jvm/java-8-openjdk-amd64/bin/schemagen to provide /usr/bin/schemagen (schemagen) in auto mode\n",
            "update-alternatives: using /usr/lib/jvm/java-8-openjdk-amd64/bin/wsgen to provide /usr/bin/wsgen (wsgen) in auto mode\n",
            "update-alternatives: using /usr/lib/jvm/java-8-openjdk-amd64/bin/wsimport to provide /usr/bin/wsimport (wsimport) in auto mode\n",
            "update-alternatives: using /usr/lib/jvm/java-8-openjdk-amd64/bin/xjc to provide /usr/bin/xjc (xjc) in auto mode\n",
            "Processing triggers for libc-bin (2.35-0ubuntu3.4) ...\n",
            "/sbin/ldconfig.real: /usr/local/lib/libtbbmalloc.so.2 is not a symbolic link\n",
            "\n",
            "/sbin/ldconfig.real: /usr/local/lib/libur_adapter_opencl.so.0 is not a symbolic link\n",
            "\n",
            "/sbin/ldconfig.real: /usr/local/lib/libur_adapter_level_zero.so.0 is not a symbolic link\n",
            "\n",
            "/sbin/ldconfig.real: /usr/local/lib/libtbb.so.12 is not a symbolic link\n",
            "\n",
            "/sbin/ldconfig.real: /usr/local/lib/libtbbbind_2_0.so.3 is not a symbolic link\n",
            "\n",
            "/sbin/ldconfig.real: /usr/local/lib/libtbbmalloc_proxy.so.2 is not a symbolic link\n",
            "\n",
            "/sbin/ldconfig.real: /usr/local/lib/libtbbbind.so.3 is not a symbolic link\n",
            "\n",
            "/sbin/ldconfig.real: /usr/local/lib/libtbbbind_2_5.so.3 is not a symbolic link\n",
            "\n",
            "/sbin/ldconfig.real: /usr/local/lib/libur_loader.so.0 is not a symbolic link\n",
            "\n"
          ]
        }
      ]
    },
    {
      "cell_type": "code",
      "source": [
        "from google.colab import drive\n",
        "drive.mount('/content/drive')"
      ],
      "metadata": {
        "id": "anafrcL39KZZ",
        "colab": {
          "base_uri": "https://localhost:8080/",
          "height": 0
        },
        "outputId": "bc5a62ff-1dfc-4e66-8519-9472f20ca7d5"
      },
      "execution_count": 3,
      "outputs": [
        {
          "output_type": "stream",
          "name": "stdout",
          "text": [
            "Mounted at /content/drive\n"
          ]
        }
      ]
    },
    {
      "cell_type": "markdown",
      "metadata": {
        "id": "-CJ71AKe91eh"
      },
      "source": [
        "Now we authenticate a Google Drive client to download the file we will be processing in our Spark job.\n",
        "\n",
        "**Make sure to follow the interactive instructions.**"
      ]
    },
    {
      "cell_type": "code",
      "metadata": {
        "id": "5K93ABEy9Zlo",
        "colab": {
          "base_uri": "https://localhost:8080/",
          "height": 0
        },
        "outputId": "4a49eab9-bb21-4381-e4fe-265d612d9de4"
      },
      "source": [
        "from pydrive.auth import GoogleAuth\n",
        "from pydrive.drive import GoogleDrive\n",
        "from google.colab import auth\n",
        "from oauth2client.client import GoogleCredentials\n",
        "\n",
        "# Authenticate and create the PyDrive client\n",
        "auth.authenticate_user()\n",
        "gauth = GoogleAuth()\n",
        "gauth.credentials = GoogleCredentials.get_application_default()\n",
        "drive = GoogleDrive(gauth)"
      ],
      "execution_count": 4,
      "outputs": [
        {
          "output_type": "stream",
          "name": "stderr",
          "text": [
            "WARNING:root:pydrive is deprecated and no longer maintained. We recommend that you migrate your projects to pydrive2, the maintained fork of pydrive\n"
          ]
        }
      ]
    },
    {
      "cell_type": "code",
      "metadata": {
        "id": "0orRvrc1-545"
      },
      "source": [
        "id='1dhi1F78ssqR8gE6U-AgB80ZW7V_9snX4'\n",
        "downloaded = drive.CreateFile({'id': id})\n",
        "downloaded.GetContentFile('products.csv')\n",
        "\n",
        "id='1KZBNEaIyMTcsRV817us6uLZgm-Mii8oU'\n",
        "downloaded = drive.CreateFile({'id': id})\n",
        "downloaded.GetContentFile('order_products__train.csv')"
      ],
      "execution_count": 5,
      "outputs": []
    },
    {
      "cell_type": "markdown",
      "metadata": {
        "id": "qwtlO4_m_LbQ"
      },
      "source": [
        "If you executed the cells above, you should be able to see the dataset we will need for this Colab under the \"Files\" tab on the left panel."
      ]
    },
    {
      "cell_type": "markdown",
      "source": [],
      "metadata": {
        "id": "aKrAiLv3Dup-"
      }
    },
    {
      "cell_type": "code",
      "metadata": {
        "id": "twk-K-jilWK7"
      },
      "source": [
        "import pandas as pd\n",
        "import numpy as np\n",
        "import matplotlib.pyplot as plt\n",
        "%matplotlib inline\n",
        "\n",
        "import pyspark\n",
        "from pyspark.sql import *\n",
        "from pyspark.sql.functions import *\n",
        "from pyspark import SparkContext, SparkConf"
      ],
      "execution_count": 6,
      "outputs": []
    },
    {
      "cell_type": "markdown",
      "metadata": {
        "id": "dr-8fK-1lmY0"
      },
      "source": [
        "Let's initialize the Spark context."
      ]
    },
    {
      "cell_type": "code",
      "metadata": {
        "id": "UOwtm2l7lePt"
      },
      "source": [
        "# create the session\n",
        "conf = SparkConf().set(\"spark.ui.port\", \"4050\")\n",
        "\n",
        "# create the context\n",
        "sc = pyspark.SparkContext(conf=conf)\n",
        "spark = SparkSession.builder.getOrCreate()"
      ],
      "execution_count": 7,
      "outputs": []
    },
    {
      "cell_type": "markdown",
      "metadata": {
        "id": "CRaF2A_j_nC7"
      },
      "source": [
        "### Your task"
      ]
    },
    {
      "cell_type": "markdown",
      "metadata": {
        "id": "ebLNUxP0_8x3"
      },
      "source": [
        "If you run successfully the setup stage, you are ready to work with the **3 Million Instacart Orders** dataset. In case you want to read more about it, check the [official Instacart blog post](https://tech.instacart.com/3-million-instacart-orders-open-sourced-d40d29ead6f2) about it, a concise [schema description](https://gist.github.com/jeremystan/c3b39d947d9b88b3ccff3147dbcf6c6b) of the dataset, and the [download page](https://www.instacart.com/datasets/grocery-shopping-2017).\n",
        "\n",
        "In this Colab, we will be working with a subset training dataset (~131K orders) to perform fast and scalable Frequent Pattern Mining."
      ]
    },
    {
      "cell_type": "code",
      "metadata": {
        "id": "xu-e7Ph2_ruG"
      },
      "source": [
        "products = spark.read.csv('products.csv', header=True, inferSchema=True)\n",
        "orders = spark.read.csv('order_products__train.csv', header=True, inferSchema=True)"
      ],
      "execution_count": 8,
      "outputs": []
    },
    {
      "cell_type": "code",
      "metadata": {
        "id": "hhxZZRT9syUO",
        "colab": {
          "base_uri": "https://localhost:8080/",
          "height": 0
        },
        "outputId": "08a08aa1-9853-4b59-8727-d8c6168a78b3"
      },
      "source": [
        "products.printSchema()"
      ],
      "execution_count": 9,
      "outputs": [
        {
          "output_type": "stream",
          "name": "stdout",
          "text": [
            "root\n",
            " |-- product_id: integer (nullable = true)\n",
            " |-- product_name: string (nullable = true)\n",
            " |-- aisle_id: string (nullable = true)\n",
            " |-- department_id: string (nullable = true)\n",
            "\n"
          ]
        }
      ]
    },
    {
      "cell_type": "code",
      "metadata": {
        "id": "8VeRYRz2s1pm",
        "colab": {
          "base_uri": "https://localhost:8080/",
          "height": 0
        },
        "outputId": "2384388e-23c9-437d-8464-45c1374b823a"
      },
      "source": [
        "orders.printSchema()"
      ],
      "execution_count": 10,
      "outputs": [
        {
          "output_type": "stream",
          "name": "stdout",
          "text": [
            "root\n",
            " |-- order_id: integer (nullable = true)\n",
            " |-- product_id: integer (nullable = true)\n",
            " |-- add_to_cart_order: integer (nullable = true)\n",
            " |-- reordered: integer (nullable = true)\n",
            "\n"
          ]
        }
      ]
    },
    {
      "cell_type": "markdown",
      "metadata": {
        "id": "h5muD_Io59CG"
      },
      "source": [
        "Use the Spark Dataframe API to join 'products' and 'orders', so that you will be able to see the product names in each transaction (and not only their ids).  Then, group by the orders by 'order_id' to obtain one row per basket (i.e., set of products purchased together by one customer). Display the top 20 rows."
      ]
    },
    {
      "cell_type": "code",
      "metadata": {
        "id": "zRH4o4p7s7V6",
        "colab": {
          "base_uri": "https://localhost:8080/",
          "height": 0
        },
        "outputId": "fb34bdfd-baa6-4036-a12b-08e3183def78"
      },
      "source": [
        "''' 2-3 lines of code expected '''\n",
        "# YOUR CODE HERE\n",
        "\n",
        "# Join 'orders' with 'products' on 'product_id' to get 'product_name'\n",
        "order_products = orders.join(products, on='product_id', how='inner')\n",
        "\n",
        "# Group by 'order_id' and collect product names into a list to form baskets\n",
        "baskets = order_products.groupBy('order_id').agg(collect_list('product_name').alias('items'))\n",
        "\n",
        "# Display the top 20 baskets\n",
        "baskets.show(20, truncate=False)"
      ],
      "execution_count": 11,
      "outputs": [
        {
          "output_type": "stream",
          "name": "stdout",
          "text": [
            "+--------+-----------------------------------------------------------------------------------------------------------------------------------------------------------------------------------------------------------------------------------------------------------------------------------------------------------------------------------------------------------------------------------------------------------------------------------------------------------------------------------------------------------------------------------------------------------------------------------------------------------------------------------------------------------------------------------------------------------------------------------------------------------------------------------------------------------------------------------------------------------------------------------------------------------------------------------------------------+\n",
            "|order_id|items                                                                                                                                                                                                                                                                                                                                                                                                                                                                                                                                                                                                                                                                                                                                                                                                                                                                                                                                                |\n",
            "+--------+-----------------------------------------------------------------------------------------------------------------------------------------------------------------------------------------------------------------------------------------------------------------------------------------------------------------------------------------------------------------------------------------------------------------------------------------------------------------------------------------------------------------------------------------------------------------------------------------------------------------------------------------------------------------------------------------------------------------------------------------------------------------------------------------------------------------------------------------------------------------------------------------------------------------------------------------------------+\n",
            "|1       |[Bulgarian Yogurt, Organic 4% Milk Fat Whole Milk Cottage Cheese, Organic Celery Hearts, Cucumber Kirby, Lightly Smoked Sardines in Olive Oil, Bag of Organic Bananas, Organic Hass Avocado, Organic Whole String Cheese]                                                                                                                                                                                                                                                                                                                                                                                                                                                                                                                                                                                                                                                                                                                            |\n",
            "|96      |[Roasted Turkey, Organic Cucumber, Organic Grape Tomatoes, Organic Pomegranate Kernels, Organic Raspberries, Organic Whole Strawberries, Organic Blueberries]                                                                                                                                                                                                                                                                                                                                                                                                                                                                                                                                                                                                                                                                                                                                                                                        |\n",
            "|112     |[Fresh Cauliflower, I Heart Baby Kale, Sea Salt Baked Potato Chips, Marinara Pasta Sauce, Organic Hass Avocado, Organic Lemon, Coconut Water Kefir, Premium Epsom Salt, Umcka Elderberry Intensive Cold + Flu Berry Flavor, Hickory Honey Barbeque Baked Potato Chips, Baked Sea Salt & Vinegar Potato Chips]                                                                                                                                                                                                                                                                                                                                                                                                                                                                                                                                                                                                                                        |\n",
            "|218     |[Natural Artisan Water, Okra, Organic Yellow Peaches, Black Plum, Citrus Mandarins Organic]                                                                                                                                                                                                                                                                                                                                                                                                                                                                                                                                                                                                                                                                                                                                                                                                                                                          |\n",
            "|456     |[Chorizo Pork, Petite Peas, Max Gel Clog Remover, Green Beans, Naturally Hickory Smoked Hometown Original Bacon, Extra Virgin Olive Oil, Mediterranean Fine Sea Salt, Pure Ground, Large Lemon]                                                                                                                                                                                                                                                                                                                                                                                                                                                                                                                                                                                                                                                                                                                                                      |\n",
            "|473     |[Organic Whole Milk with DHA Omega-3, Banana, Unsweetened Original Almond Breeze Almond Milk, Baby Wipes, Basil Pesto, Mushroom Ravioli, Spinaci e Ricotta Ravioli, Multi Grain Waffles]                                                                                                                                                                                                                                                                                                                                                                                                                                                                                                                                                                                                                                                                                                                                                             |\n",
            "|631     |[Organic Strawberries, Uncured Genoa Salami, Organic Baby Carrots, Gluten Free Organic Taco Sliders Corn Tortillas, Organic Chili Powder Blend, Organic Cilantro, Mild Salsa, Garlic, Tamari Gluten Free Soy Sauce, Broccoli Crown, Organic Red Radish, Bunch, Organic Asian Chopped Salad Kit, Dairy Free Coconut Milk Raspberry Yogurt Alternative, Dairy Free Coconut Milk Yogurt Alternative, French Vanilla Coconut Milk Creamer, Vanilla Almond Milk, Organic Italian Parsley Bunch]                                                                                                                                                                                                                                                                                                                                                                                                                                                           |\n",
            "|762     |[Organic Strawberries, Organic Romaine Lettuce, Celery Hearts, Organic Cucumber]                                                                                                                                                                                                                                                                                                                                                                                                                                                                                                                                                                                                                                                                                                                                                                                                                                                                     |\n",
            "|774     |[Ice Cream Variety Pack, Nacho Cheese Sauce, Deli-Sliced Hot Jalapeño Peppers]                                                                                                                                                                                                                                                                                                                                                                                                                                                                                                                                                                                                                                                                                                                                                                                                                                                                       |\n",
            "|844     |[Green Beans, Organic Red Radish, Bunch, Baby Spinach, Organic Shredded Carrots, Granny Smith Apples, Garlic Couscous, Cheese Pizza Snacks]                                                                                                                                                                                                                                                                                                                                                                                                                                                                                                                                                                                                                                                                                                                                                                                                          |\n",
            "|904     |[Cup Noodles Chicken Flavor, Zero Calorie Cola]                                                                                                                                                                                                                                                                                                                                                                                                                                                                                                                                                                                                                                                                                                                                                                                                                                                                                                      |\n",
            "|988     |[Natural Vanilla Ice Cream, Whipped Light Cream, Original, Complete ActionPacs Lemon Burst Dishwasher Detergent, Classic Vanilla Coffee Creamer]                                                                                                                                                                                                                                                                                                                                                                                                                                                                                                                                                                                                                                                                                                                                                                                                     |\n",
            "|1032    |[Clover Org Greek Plain, Electrolyte Enhanced Water, Organic Raspberries, Natural Spring Water, Goodness Grapeness Organic Juice Drink, Small Hass Avocado, Cheese Pizza, Water, Unsweet, Blood Orange, Unsweetened Honeydew Essence Water, Organic Living Butter Lettuce, Pineapple Apple Mint Organic Cold Pressed Juicd, Le Petite Fromage Parmesan & Basil, Organic Small Bunch Celery, Organic Large Extra Fancy Fuji Apple, Organic Bartlett Pear, Apple Honeycrisp Organic, Xylitol Sweetener, Amaaazing Blueberry Apple Juice Blend Drink, Water New Zealand, New Zealand Artesian Water, Wild Berry Sparkling Energy Water, Dolmas, Taco Seasoning, Original Long Grain & Wild Rice Mix, Garlic & Herb Rice Pilaf Mix]                                                                                                                                                                                                                      |\n",
            "|1077    |[Bag of Organic Bananas, Celery Sticks, Sparkling Water, Organic Strawberries]                                                                                                                                                                                                                                                                                                                                                                                                                                                                                                                                                                                                                                                                                                                                                                                                                                                                       |\n",
            "|1119    |[Boneless Skinless Chicken Breast, Large Lemon, Organic Grade A Free Range Large Brown Eggs, Fresh Cauliflower, Broccoli Crown, Shallot]                                                                                                                                                                                                                                                                                                                                                                                                                                                                                                                                                                                                                                                                                                                                                                                                             |\n",
            "|1139    |[Banana, Organic Strawberries, Red Vine Tomato, Organic Bakery Hamburger Buns Wheat - 8 CT, Guacamole, Picnic Potato Salad, Cinnamon Rolls with Icing, Flaky Biscuits, Buttermilk Biscuits]                                                                                                                                                                                                                                                                                                                                                                                                                                                                                                                                                                                                                                                                                                                                                          |\n",
            "|1143    |[Natural Premium Coconut Water, Calming Lavender Body Wash, Unscented Long Lasting Stick Deodorant, Organic Raspberries, Organic Blueberries, Organic Hass Avocado, Organic Butterhead (Boston, Butter, Bibb) Lettuce, Baby Arugula, Large Lemon, Organic Garlic, Organic Red Radish, Bunch, Rustic Baguette, Organic Brussel Sprouts, Organic Capellini Whole Wheat Pasta, Basil Pesto, Spring Water, Water]                                                                                                                                                                                                                                                                                                                                                                                                                                                                                                                                        |\n",
            "|1145    |[Banana, Original French Toast Sticks, Healthy Multi Grain Bread, Harvest Best in 100% Fruit Juice Mandarin Oranges, Little Bites Blueberry Muffin Pouches, Harvest Cheddar Multigrain Chips, Mexican Casserole Bowl, Natural Uncured Turkey Hot Dog, Original Red Raspberry Yogurt, Goldfish Parmesan Baked Snack Crackers, Multi Grain Cheerios Cereal, Roma Tomato, Shredded Mild Cheddar Cheese, Light Mozzarella String Cheese, Eggs, Cheese & Turkey Sausage Breakfast Burrito, Everything Bagel, Danimals Strawberry Explosion & Strikin' Strawberry Kiwi Smoothies, Spaghetti Pasta, Signature Recipes Vodka Sauce Pasta Sauce, Spinach Pizza, Hash Brown Potato Patties, Nacho Cheese & Bean Snacks, 2% Low Fat Cottage Cheese, Original Nooks & Crannies English Muffins, Milano Milk Chocolate Cookies, Strawberries, Strawberry Frozen Greek Yogurt Bars, Instant Whole Grain Brown Rice, Stir Fry Seasoning Mix, Classic Stir-fry Sauce]|\n",
            "|1275    |[Boneless Skinless Chicken Breast, Organic Garnet Sweet Potato (Yam), Small Hass Avocado, Extra Virgin Olive Oil, Balsamic Vinegar Of Modena]                                                                                                                                                                                                                                                                                                                                                                                                                                                                                                                                                                                                                                                                                                                                                                                                        |\n",
            "|1280    |[Lactose Free Half & Half, Organic Half & Half, Vanilla Soy Milk, Organic Whole Milk, French Vanilla Creamer]                                                                                                                                                                                                                                                                                                                                                                                                                                                                                                                                                                                                                                                                                                                                                                                                                                        |\n",
            "+--------+-----------------------------------------------------------------------------------------------------------------------------------------------------------------------------------------------------------------------------------------------------------------------------------------------------------------------------------------------------------------------------------------------------------------------------------------------------------------------------------------------------------------------------------------------------------------------------------------------------------------------------------------------------------------------------------------------------------------------------------------------------------------------------------------------------------------------------------------------------------------------------------------------------------------------------------------------------+\n",
            "only showing top 20 rows\n",
            "\n"
          ]
        }
      ]
    },
    {
      "cell_type": "markdown",
      "metadata": {
        "id": "EfHoTLAg6qnM"
      },
      "source": [
        "In this Colab we will first explore [MLlib](https://spark.apache.org/mllib/), Apache Spark's scalable machine learning library. Specifically, you should use its implementation of the [FP-Growth](https://spark.apache.org/docs/latest/ml-frequent-pattern-mining.html#fp-growth) algorithm to perform fast Frequent Pattern Mining in Spark.\n",
        "Use the Python example in the documentation, and train a model with\n",
        "\n",
        "```minSupport=0.01``` and ```minConfidence=0.5```"
      ]
    },
    {
      "cell_type": "code",
      "metadata": {
        "id": "boWgxXNns089"
      },
      "source": [
        "''' 3 lines of code expected '''\n",
        "# YOUR CODE HERE\n",
        "\n",
        "from pyspark.ml.fpm import FPGrowth\n",
        "\n",
        "# Initialize FP-Growth model\n",
        "fpGrowth = FPGrowth(itemsCol='items', minSupport=0.01, minConfidence=0.5)\n",
        "\n",
        "# Train the model on the baskets DataFrame\n",
        "model = fpGrowth.fit(baskets)"
      ],
      "execution_count": 12,
      "outputs": []
    },
    {
      "cell_type": "markdown",
      "metadata": {
        "id": "6kpTVdfD8UiO"
      },
      "source": [
        "Compute and print how many frequent itemsets and association rules were generated by running FP-growth alongside visualizing top frequent itemsets and association rules. Show top 20 rows.\n"
      ]
    },
    {
      "cell_type": "code",
      "metadata": {
        "id": "6KYgQ_URunvA",
        "colab": {
          "base_uri": "https://localhost:8080/",
          "height": 0
        },
        "outputId": "6909453f-2647-4cae-cb13-bdf92c621069"
      },
      "source": [
        "''' 5 lines of code in total expected but can differ based on your style. for sub-parts of the question, creating different cells of code would be recommended.'''\n",
        "# YOUR CODE HERE\n",
        "\n",
        "# Extract frequent itemsets and association rules\n",
        "freq_itemsets = model.freqItemsets\n",
        "association_rules = model.associationRules\n",
        "\n",
        "# Compute counts\n",
        "num_freq_itemsets = freq_itemsets.count()\n",
        "num_association_rules = association_rules.count()\n",
        "\n",
        "# Print counts\n",
        "print(f\"Number of frequent itemsets: {num_freq_itemsets}\")\n",
        "print(f\"Number of association rules: {num_association_rules}\")\n",
        "\n",
        "# Display top 20 frequent itemsets\n",
        "freq_itemsets.orderBy(desc('freq')).show(20, truncate=False)\n",
        "\n",
        "# Display top 20 association rules\n",
        "association_rules.orderBy(desc('confidence')).show(20, truncate=False)"
      ],
      "execution_count": 13,
      "outputs": [
        {
          "output_type": "stream",
          "name": "stdout",
          "text": [
            "Number of frequent itemsets: 120\n",
            "Number of association rules: 0\n",
            "+------------------------+-----+\n",
            "|items                   |freq |\n",
            "+------------------------+-----+\n",
            "|[Banana]                |18726|\n",
            "|[Bag of Organic Bananas]|15480|\n",
            "|[Organic Strawberries]  |10894|\n",
            "|[Organic Baby Spinach]  |9784 |\n",
            "|[Large Lemon]           |8135 |\n",
            "|[Organic Avocado]       |7409 |\n",
            "|[Organic Hass Avocado]  |7293 |\n",
            "|[Strawberries]          |6494 |\n",
            "|[Limes]                 |6033 |\n",
            "|[Organic Raspberries]   |5546 |\n",
            "|[Organic Blueberries]   |4966 |\n",
            "|[Organic Whole Milk]    |4908 |\n",
            "|[Organic Cucumber]      |4613 |\n",
            "|[Organic Zucchini]      |4589 |\n",
            "|[Organic Yellow Onion]  |4290 |\n",
            "|[Organic Garlic]        |4158 |\n",
            "|[Seedless Red Grapes]   |4059 |\n",
            "|[Asparagus]             |3868 |\n",
            "|[Organic Grape Tomatoes]|3823 |\n",
            "|[Organic Red Onion]     |3818 |\n",
            "+------------------------+-----+\n",
            "only showing top 20 rows\n",
            "\n",
            "+----------+----------+----------+----+-------+\n",
            "|antecedent|consequent|confidence|lift|support|\n",
            "+----------+----------+----------+----+-------+\n",
            "+----------+----------+----------+----+-------+\n",
            "\n"
          ]
        }
      ]
    },
    {
      "cell_type": "markdown",
      "metadata": {
        "id": "qT8Lwm1VAPoN"
      },
      "source": [
        "Now retrain the FP-growth model changing only\n",
        "```minsupport=0.001```.\n",
        "Compute and print how many frequent itemsets and association rules were generated. Show top 20 rows for both.\n"
      ]
    },
    {
      "cell_type": "code",
      "metadata": {
        "id": "F4LTM9beApYn",
        "colab": {
          "base_uri": "https://localhost:8080/",
          "height": 0
        },
        "outputId": "62a59df1-7f48-448e-d87c-24e63767f0f1"
      },
      "source": [
        "''' 6 lines of code in total expected but can differ based on your style. for sub-parts of the question, creating different cells of code would be recommended.'''\n",
        "# YOUR CODE HERE\n",
        "\n",
        "# Initialize FP-Growth model with new minSupport\n",
        "fpGrowth2 = FPGrowth(itemsCol='items', minSupport=0.001, minConfidence=0.5)\n",
        "\n",
        "# Train the model on the baskets DataFrame\n",
        "model2 = fpGrowth2.fit(baskets)\n",
        "\n",
        "# Extract frequent itemsets and association rules\n",
        "freq_itemsets2 = model2.freqItemsets\n",
        "association_rules2 = model2.associationRules\n",
        "\n",
        "# Compute counts\n",
        "num_freq_itemsets2 = freq_itemsets2.count()\n",
        "num_association_rules2 = association_rules2.count()\n",
        "\n",
        "# Print counts\n",
        "print(f\"Number of frequent itemsets with minSupport=0.001: {num_freq_itemsets2}\")\n",
        "print(f\"Number of association rules with minSupport=0.001: {num_association_rules2}\")\n",
        "\n",
        "# Display top 20 frequent itemsets\n",
        "freq_itemsets2.orderBy(desc('freq')).show(20, truncate=False)\n",
        "\n",
        "# Display top 20 association rules\n",
        "association_rules2.orderBy(desc('confidence')).show(20, truncate=False)"
      ],
      "execution_count": 14,
      "outputs": [
        {
          "output_type": "stream",
          "name": "stdout",
          "text": [
            "Number of frequent itemsets with minSupport=0.001: 4444\n",
            "Number of association rules with minSupport=0.001: 11\n",
            "+------------------------+-----+\n",
            "|items                   |freq |\n",
            "+------------------------+-----+\n",
            "|[Banana]                |18726|\n",
            "|[Bag of Organic Bananas]|15480|\n",
            "|[Organic Strawberries]  |10894|\n",
            "|[Organic Baby Spinach]  |9784 |\n",
            "|[Large Lemon]           |8135 |\n",
            "|[Organic Avocado]       |7409 |\n",
            "|[Organic Hass Avocado]  |7293 |\n",
            "|[Strawberries]          |6494 |\n",
            "|[Limes]                 |6033 |\n",
            "|[Organic Raspberries]   |5546 |\n",
            "|[Organic Blueberries]   |4966 |\n",
            "|[Organic Whole Milk]    |4908 |\n",
            "|[Organic Cucumber]      |4613 |\n",
            "|[Organic Zucchini]      |4589 |\n",
            "|[Organic Yellow Onion]  |4290 |\n",
            "|[Organic Garlic]        |4158 |\n",
            "|[Seedless Red Grapes]   |4059 |\n",
            "|[Asparagus]             |3868 |\n",
            "|[Organic Grape Tomatoes]|3823 |\n",
            "|[Organic Red Onion]     |3818 |\n",
            "+------------------------+-----+\n",
            "only showing top 20 rows\n",
            "\n",
            "+-----------------------------------------------------------------+------------------------+------------------+------------------+---------------------+\n",
            "|antecedent                                                       |consequent              |confidence        |lift              |support              |\n",
            "+-----------------------------------------------------------------+------------------------+------------------+------------------+---------------------+\n",
            "|[Organic Raspberries, Organic Hass Avocado, Organic Strawberries]|[Bag of Organic Bananas]|0.5984251968503937|5.072272070642333 |0.0017376856770495927|\n",
            "|[Organic Cucumber, Organic Hass Avocado, Organic Strawberries]   |[Bag of Organic Bananas]|0.546875          |4.635330870478036 |0.0010669999771357147|\n",
            "|[Organic Kiwi, Organic Hass Avocado]                             |[Bag of Organic Bananas]|0.5459770114942529|4.627719489738336 |0.001448071397541327 |\n",
            "|[Organic Navel Orange, Organic Raspberries]                      |[Bag of Organic Bananas]|0.5412186379928315|4.587387356098284 |0.0011508356896249496|\n",
            "|[Yellow Onions, Strawberries]                                    |[Banana]                |0.5357142857142857|3.7536332219526702|0.0011432142612168373|\n",
            "|[Organic Whole String Cheese, Organic Hass Avocado]              |[Bag of Organic Bananas]|0.5314685314685315|4.504745125675359 |0.0011584571180330617|\n",
            "|[Organic Navel Orange, Organic Hass Avocado]                     |[Bag of Organic Bananas]|0.5283018867924528|4.477904539027839 |0.0014937999679900007|\n",
            "|[Organic Raspberries, Organic Hass Avocado]                      |[Bag of Organic Bananas]|0.521099116781158 |4.416853618458589 |0.004046978484707604 |\n",
            "|[Organic D'Anjou Pears, Organic Hass Avocado]                    |[Bag of Organic Bananas]|0.5170454545454546|4.3824946411792345|0.0013870999702764292|\n",
            "|[Organic Unsweetened Almond Milk, Organic Hass Avocado]          |[Bag of Organic Bananas]|0.5141065830721003|4.357584667849303 |0.0012499142589304088|\n",
            "|[Organic Broccoli, Organic Hass Avocado]                         |[Bag of Organic Bananas]|0.5048231511254019|4.278897986822536 |0.001196564260073623 |\n",
            "+-----------------------------------------------------------------+------------------------+------------------+------------------+---------------------+\n",
            "\n"
          ]
        }
      ]
    },
    {
      "cell_type": "markdown",
      "source": [
        "We ask you to inspect the resulting dataframes, and report a few results. Sort frequent items in descending order by frequency and display 50 rows."
      ],
      "metadata": {
        "id": "jG5_4XvP8UD5"
      }
    },
    {
      "cell_type": "code",
      "metadata": {
        "id": "wEqWxzTCNS87",
        "colab": {
          "base_uri": "https://localhost:8080/",
          "height": 0
        },
        "outputId": "ae1e9c52-f9ff-4870-b3ab-5ecd1e79b377"
      },
      "source": [
        "# YOUR CODE HERE\n",
        "\n",
        "# Filter itemsets of size 1 (single items)\n",
        "single_itemsets = freq_itemsets2.filter(size('items') == 1)\n",
        "\n",
        "# Sort by descending frequency and display top 50\n",
        "single_itemsets.orderBy(desc('freq')).show(50, truncate=False)"
      ],
      "execution_count": 15,
      "outputs": [
        {
          "output_type": "stream",
          "name": "stdout",
          "text": [
            "+--------------------------------------+-----+\n",
            "|items                                 |freq |\n",
            "+--------------------------------------+-----+\n",
            "|[Banana]                              |18726|\n",
            "|[Bag of Organic Bananas]              |15480|\n",
            "|[Organic Strawberries]                |10894|\n",
            "|[Organic Baby Spinach]                |9784 |\n",
            "|[Large Lemon]                         |8135 |\n",
            "|[Organic Avocado]                     |7409 |\n",
            "|[Organic Hass Avocado]                |7293 |\n",
            "|[Strawberries]                        |6494 |\n",
            "|[Limes]                               |6033 |\n",
            "|[Organic Raspberries]                 |5546 |\n",
            "|[Organic Blueberries]                 |4966 |\n",
            "|[Organic Whole Milk]                  |4908 |\n",
            "|[Organic Cucumber]                    |4613 |\n",
            "|[Organic Zucchini]                    |4589 |\n",
            "|[Organic Yellow Onion]                |4290 |\n",
            "|[Organic Garlic]                      |4158 |\n",
            "|[Seedless Red Grapes]                 |4059 |\n",
            "|[Asparagus]                           |3868 |\n",
            "|[Organic Grape Tomatoes]              |3823 |\n",
            "|[Organic Red Onion]                   |3818 |\n",
            "|[Yellow Onions]                       |3762 |\n",
            "|[Organic Baby Carrots]                |3597 |\n",
            "|[Honeycrisp Apple]                    |3551 |\n",
            "|[Organic Cilantro]                    |3526 |\n",
            "|[Organic Lemon]                       |3505 |\n",
            "|[Sparkling Water Grapefruit]          |3359 |\n",
            "|[Raspberries]                         |3279 |\n",
            "|[Organic Fuji Apple]                  |3257 |\n",
            "|[Small Hass Avocado]                  |3103 |\n",
            "|[Broccoli Crown]                      |2932 |\n",
            "|[Organic Baby Arugula]                |2923 |\n",
            "|[Red Peppers]                         |2905 |\n",
            "|[Organic Large Extra Fancy Fuji Apple]|2891 |\n",
            "|[Original Hummus]                     |2858 |\n",
            "|[Organic Blackberries]                |2843 |\n",
            "|[Organic Gala Apples]                 |2809 |\n",
            "|[Fresh Cauliflower]                   |2651 |\n",
            "|[Organic Half & Half]                 |2646 |\n",
            "|[Michigan Organic Kale]               |2627 |\n",
            "|[Organic Small Bunch Celery]          |2623 |\n",
            "|[Organic Garnet Sweet Potato (Yam)]   |2568 |\n",
            "|[Organic Tomato Cluster]              |2538 |\n",
            "|[Green Bell Pepper]                   |2521 |\n",
            "|[Carrots]                             |2497 |\n",
            "|[Organic Peeled Whole Baby Carrots]   |2460 |\n",
            "|[Half & Half]                         |2424 |\n",
            "|[Cucumber Kirby]                      |2413 |\n",
            "|[Organic Italian Parsley Bunch]       |2400 |\n",
            "|[Organic Red Bell Pepper]             |2393 |\n",
            "|[Organic Granny Smith Apple]          |2337 |\n",
            "+--------------------------------------+-----+\n",
            "only showing top 50 rows\n",
            "\n"
          ]
        }
      ]
    },
    {
      "cell_type": "markdown",
      "source": [
        "Also, sort assocation rules in descending order by confidence and display 20 rows."
      ],
      "metadata": {
        "id": "7v-Zz4Lb-Wmp"
      }
    },
    {
      "cell_type": "code",
      "source": [
        "# YOUR CODE HERE\n",
        "\n",
        "# Sort association rules by descending confidence and display top 20\n",
        "association_rules2.orderBy(desc('confidence')).show(20, truncate=False)"
      ],
      "metadata": {
        "id": "g6nzQ5da-XOg",
        "colab": {
          "base_uri": "https://localhost:8080/",
          "height": 0
        },
        "outputId": "386b9b04-e7f3-467e-c7df-357c6de4265d"
      },
      "execution_count": 16,
      "outputs": [
        {
          "output_type": "stream",
          "name": "stdout",
          "text": [
            "+-----------------------------------------------------------------+------------------------+------------------+------------------+---------------------+\n",
            "|antecedent                                                       |consequent              |confidence        |lift              |support              |\n",
            "+-----------------------------------------------------------------+------------------------+------------------+------------------+---------------------+\n",
            "|[Organic Raspberries, Organic Hass Avocado, Organic Strawberries]|[Bag of Organic Bananas]|0.5984251968503937|5.072272070642333 |0.0017376856770495927|\n",
            "|[Organic Cucumber, Organic Hass Avocado, Organic Strawberries]   |[Bag of Organic Bananas]|0.546875          |4.635330870478036 |0.0010669999771357147|\n",
            "|[Organic Kiwi, Organic Hass Avocado]                             |[Bag of Organic Bananas]|0.5459770114942529|4.627719489738336 |0.001448071397541327 |\n",
            "|[Organic Navel Orange, Organic Raspberries]                      |[Bag of Organic Bananas]|0.5412186379928315|4.587387356098284 |0.0011508356896249496|\n",
            "|[Yellow Onions, Strawberries]                                    |[Banana]                |0.5357142857142857|3.7536332219526702|0.0011432142612168373|\n",
            "|[Organic Whole String Cheese, Organic Hass Avocado]              |[Bag of Organic Bananas]|0.5314685314685315|4.504745125675359 |0.0011584571180330617|\n",
            "|[Organic Navel Orange, Organic Hass Avocado]                     |[Bag of Organic Bananas]|0.5283018867924528|4.477904539027839 |0.0014937999679900007|\n",
            "|[Organic Raspberries, Organic Hass Avocado]                      |[Bag of Organic Bananas]|0.521099116781158 |4.416853618458589 |0.004046978484707604 |\n",
            "|[Organic D'Anjou Pears, Organic Hass Avocado]                    |[Bag of Organic Bananas]|0.5170454545454546|4.3824946411792345|0.0013870999702764292|\n",
            "|[Organic Unsweetened Almond Milk, Organic Hass Avocado]          |[Bag of Organic Bananas]|0.5141065830721003|4.357584667849303 |0.0012499142589304088|\n",
            "|[Organic Broccoli, Organic Hass Avocado]                         |[Bag of Organic Bananas]|0.5048231511254019|4.278897986822536 |0.001196564260073623 |\n",
            "+-----------------------------------------------------------------+------------------------+------------------+------------------+---------------------+\n",
            "\n"
          ]
        }
      ]
    },
    {
      "cell_type": "markdown",
      "source": [
        "What are your observations by varying support parameters? Answer in 2 sentences."
      ],
      "metadata": {
        "id": "iJwJJo7uVbA_"
      }
    },
    {
      "cell_type": "markdown",
      "source": [
        "By decreasing the minSupport from 0.01 to 0.001, the number of frequent itemsets and association rules increased significantly. This is because a lower support threshold allows less frequent itemsets to be considered frequent, resulting in more patterns being detected."
      ],
      "metadata": {
        "id": "BqCz8qsVVcAj"
      }
    },
    {
      "cell_type": "markdown",
      "source": [
        "Your next task is to develop the **SON (Map Reduce) algorithm** to compute frequent itemsets by dividing the data into 10 chunks. Assume the *global* support to be:\n",
        "```minsupport=0.001```.\n",
        "\n",
        "Hint:\n",
        "1. To simulate the SON (Map Reduce) algorithm for frequent itemset mining in Apache Spark, even if the input file is located on a single node, you can divide the file into smaller chunks (partitions) and process each partition as though it were distributed across multiple nodes. Spark will treat these partitions as separate subsets of the data, effectively mimicking how the SON algorithm would work in a true distributed environment.\n",
        "\n",
        "2. The repartition function redistributes the data into the desired number of partitions (use 10 in this case). Example:\n",
        "\n",
        "    ```data_partitioned = data.repartition(10)```\n",
        "\n",
        "The .repartition(10) method repartitions the DataFrame into 10 partitions, but it does not change the underlying structure of data. It remains a Spark DataFrame, just with a different partitioning scheme.\n",
        "\n",
        "3. Apply FP-Growth to partitions without converting to RDD to generate candidates. Get the DataFrame by iterating through paritions by using e.g., the filter() function or foreachPartition(). If you want to apply FP-Growth to each partition while keeping everything within the DataFrame API, you must avoid using RDD-based operations like .rdd.mapPartitions().\n",
        "\n",
        "4. Even with lazy evaluations: transformations such as filter() in the logical plan by iterating through partitions can lead to distributed execution. So, even if we do not use actions like foreachPartition(), which forces distributed execution without logical plan optimization, this workflow could still benefit from distributed execution. Since we are using a single node and simulating SON MapReduce, the distinction between filter() and foreachPartition() would not make a difference. Therefore, we recommend using filter(), as it leads to a more straightforward implementation, but we would accept either solution with filter() or foreachPartition(). However, in the general case note that if one would like to explicitly process each partition in parallel across the cluster, use foreachPartition().\n",
        "\n"
      ],
      "metadata": {
        "id": "1w59ZiUjA9xQ"
      }
    },
    {
      "cell_type": "markdown",
      "source": [
        "Perform map and reduce operations using Spark transformations and actions."
      ],
      "metadata": {
        "id": "sg2kS8oSOGDR"
      }
    },
    {
      "cell_type": "markdown",
      "source": [
        " In Phase 1, find candidate itemsets.  "
      ],
      "metadata": {
        "id": "kusexbsXRkbG"
      }
    },
    {
      "cell_type": "code",
      "source": [
        "# YOUR CODE HERE (map and reduce operations)\n",
        "\n",
        "from pyspark.ml.fpm import FPGrowth\n",
        "\n",
        "# Repartition the baskets DataFrame into 10 partitions\n",
        "baskets_partitioned = baskets.repartition(10)\n",
        "\n",
        "# Add a partition ID column using spark_partition_id()\n",
        "from pyspark.sql.functions import spark_partition_id\n",
        "\n",
        "baskets_partitioned = baskets_partitioned.withColumn(\"partition_id\", spark_partition_id())\n",
        "\n",
        "# Get the list of partition IDs\n",
        "partition_ids = baskets_partitioned.select('partition_id').distinct().collect()\n",
        "partition_ids = [row['partition_id'] for row in partition_ids]\n",
        "\n",
        "# Initialize an empty list to collect candidate itemsets from all partitions\n",
        "candidate_itemsets_list = []\n",
        "\n",
        "# Iterate over each partition ID\n",
        "for pid in partition_ids:\n",
        "    # Filter the data for the current partition\n",
        "    partition_data = baskets_partitioned.filter(col('partition_id') == pid).select('items')\n",
        "\n",
        "    # Apply FP-Growth to the partition\n",
        "    fpGrowth = FPGrowth(itemsCol='items', minSupport=0.001, minConfidence=0.5)\n",
        "    model = fpGrowth.fit(partition_data)\n",
        "\n",
        "    # Collect the frequent itemsets from the partition\n",
        "    freq_itemsets = model.freqItemsets\n",
        "    candidate_itemsets_list.append(freq_itemsets)\n",
        "\n",
        "# Combine candidate itemsets from all partitions\n",
        "from functools import reduce\n",
        "\n",
        "# Union all candidate itemsets DataFrames and remove duplicates\n",
        "candidate_itemsets = reduce(DataFrame.unionAll, candidate_itemsets_list).dropDuplicates(['items'])\n",
        "\n",
        "# Compute and print the number of candidate itemsets after Phase 1\n",
        "num_candidate_itemsets = candidate_itemsets.count()\n",
        "print(f\"Number of candidate itemsets after Phase 1: {num_candidate_itemsets}\")"
      ],
      "metadata": {
        "id": "FA6M3XXnDeR4",
        "colab": {
          "base_uri": "https://localhost:8080/"
        },
        "outputId": "34802e82-8257-4b3d-ddb4-6213b47e5d1a"
      },
      "execution_count": 22,
      "outputs": [
        {
          "output_type": "stream",
          "name": "stdout",
          "text": [
            "Number of candidate itemsets after Phase 1: 8421\n"
          ]
        }
      ]
    },
    {
      "cell_type": "markdown",
      "source": [
        "Can Phase 1 cause false negatives? Provide an answer including justification in one sentence."
      ],
      "metadata": {
        "id": "-nQBZo6Ylj2c"
      }
    },
    {
      "cell_type": "markdown",
      "source": [
        "Yes, Phase 1 can cause false negatives because itemsets that are globally frequent may not appear frequently within any single partition and thus may not be identified as candidates."
      ],
      "metadata": {
        "id": "-igGxn3RlpCq"
      }
    },
    {
      "cell_type": "markdown",
      "source": [
        "In Phase 2, find true frequent itemsets."
      ],
      "metadata": {
        "id": "RhesJMBlD233"
      }
    },
    {
      "cell_type": "code",
      "source": [
        "# YOUR CODE HERE (map and reduce operations)\n",
        "\n",
        "from pyspark.sql.functions import col, udf, explode\n",
        "from pyspark.sql.types import ArrayType, StringType\n",
        "\n",
        "# Define the global minimum support\n",
        "minsupport = 0.001\n",
        "\n",
        "# Total number of baskets\n",
        "total_baskets = baskets.count()\n",
        "\n",
        "# Calculate the minimum support count\n",
        "min_support_count = minsupport * total_baskets\n",
        "\n",
        "# Collect candidate itemsets into a list\n",
        "candidate_itemsets_list = candidate_itemsets.select('items').collect()\n",
        "candidate_itemsets_list = [row['items'] for row in candidate_itemsets_list]\n",
        "\n",
        "# Broadcast the candidate itemsets\n",
        "candidate_itemsets_broadcast = sc.broadcast(candidate_itemsets_list)\n",
        "\n",
        "# Define a UDF to find candidate itemsets in each basket\n",
        "def find_candidate_itemsets(basket_items):\n",
        "    basket_set = set(basket_items)\n",
        "    candidates = []\n",
        "    for itemset in candidate_itemsets_broadcast.value:\n",
        "        if set(itemset).issubset(basket_set):\n",
        "            candidates.append(itemset)\n",
        "    return candidates\n",
        "\n",
        "find_candidates_udf = udf(find_candidate_itemsets, ArrayType(ArrayType(StringType())))\n",
        "\n",
        "# Apply the UDF to the baskets DataFrame\n",
        "baskets_with_candidates = baskets.withColumn('candidate_itemsets', find_candidates_udf(col('items')))\n",
        "\n",
        "# Explode the candidate itemsets to get one itemset per row\n",
        "exploded_candidates = baskets_with_candidates.select(explode('candidate_itemsets').alias('items'))\n",
        "\n",
        "# Group by the itemsets and count occurrences\n",
        "frequent_itemsets = exploded_candidates.groupBy('items').count().withColumnRenamed('count', 'freq')\n",
        "\n",
        "# Filter itemsets that meet the global support threshold\n",
        "frequent_itemsets = frequent_itemsets.filter(col('freq') >= min_support_count)"
      ],
      "metadata": {
        "id": "oQp_lJiVPXVt"
      },
      "execution_count": 23,
      "outputs": []
    },
    {
      "cell_type": "markdown",
      "source": [
        "What is the benefit of Phase 2? Provide an answer in one sentence."
      ],
      "metadata": {
        "id": "nRtwQ-PGmLXY"
      }
    },
    {
      "cell_type": "markdown",
      "source": [
        "Phase 2 verifies the candidate itemsets against the entire dataset to eliminate false positives, ensuring that only truly frequent itemsets are identified"
      ],
      "metadata": {
        "id": "U-Cr_Sh7mNtP"
      }
    },
    {
      "cell_type": "markdown",
      "source": [
        "Compute and print how many frequent itemsets were generated."
      ],
      "metadata": {
        "id": "R7Bh84jlPXA3"
      }
    },
    {
      "cell_type": "code",
      "source": [
        "# YOUR CODE HERE\n",
        "\n",
        "# Compute and print the number of frequent itemsets\n",
        "num_frequent_itemsets = frequent_itemsets.count()\n",
        "print(f\"Number of frequent itemsets: {num_frequent_itemsets}\")"
      ],
      "metadata": {
        "id": "tgPcjympEXi4",
        "colab": {
          "base_uri": "https://localhost:8080/"
        },
        "outputId": "7e5986e6-980d-4224-99c4-b5d04d4acd3c"
      },
      "execution_count": 24,
      "outputs": [
        {
          "output_type": "stream",
          "name": "stdout",
          "text": [
            "Number of frequent itemsets: 4557\n"
          ]
        }
      ]
    },
    {
      "cell_type": "markdown",
      "source": [
        "Sort frequent items in descending order by frequency and display 50 rows."
      ],
      "metadata": {
        "id": "98oARw0ZEc87"
      }
    },
    {
      "cell_type": "code",
      "source": [
        "# YOUR CODE HERE\n",
        "\n",
        " # Sort frequent itemsets by descending frequency\n",
        "frequent_itemsets_sorted = frequent_itemsets.orderBy(desc('freq'))\n",
        "\n",
        "# Display the top 50 frequent itemsets\n",
        "frequent_itemsets_sorted.show(50, truncate=False)"
      ],
      "metadata": {
        "id": "Z6jCAuhcEhdJ",
        "colab": {
          "base_uri": "https://localhost:8080/"
        },
        "outputId": "60b9a235-7a33-4198-9579-c9b0464b0223"
      },
      "execution_count": 25,
      "outputs": [
        {
          "output_type": "stream",
          "name": "stdout",
          "text": [
            "+----------------------------------------------+-----+\n",
            "|items                                         |freq |\n",
            "+----------------------------------------------+-----+\n",
            "|[Banana]                                      |18726|\n",
            "|[Bag of Organic Bananas]                      |15480|\n",
            "|[Organic Strawberries]                        |10894|\n",
            "|[Organic Baby Spinach]                        |9784 |\n",
            "|[Large Lemon]                                 |8135 |\n",
            "|[Organic Avocado]                             |7409 |\n",
            "|[Organic Hass Avocado]                        |7293 |\n",
            "|[Strawberries]                                |6494 |\n",
            "|[Limes]                                       |6033 |\n",
            "|[Organic Raspberries]                         |5546 |\n",
            "|[Organic Blueberries]                         |4966 |\n",
            "|[Organic Whole Milk]                          |4908 |\n",
            "|[Organic Cucumber]                            |4613 |\n",
            "|[Organic Zucchini]                            |4589 |\n",
            "|[Organic Yellow Onion]                        |4290 |\n",
            "|[Organic Garlic]                              |4158 |\n",
            "|[Seedless Red Grapes]                         |4059 |\n",
            "|[Asparagus]                                   |3868 |\n",
            "|[Organic Grape Tomatoes]                      |3823 |\n",
            "|[Organic Red Onion]                           |3818 |\n",
            "|[Yellow Onions]                               |3762 |\n",
            "|[Organic Baby Carrots]                        |3597 |\n",
            "|[Honeycrisp Apple]                            |3551 |\n",
            "|[Organic Cilantro]                            |3526 |\n",
            "|[Organic Lemon]                               |3505 |\n",
            "|[Sparkling Water Grapefruit]                  |3359 |\n",
            "|[Raspberries]                                 |3279 |\n",
            "|[Organic Fuji Apple]                          |3257 |\n",
            "|[Small Hass Avocado]                          |3103 |\n",
            "|[Organic Strawberries, Bag of Organic Bananas]|3074 |\n",
            "|[Broccoli Crown]                              |2932 |\n",
            "|[Organic Baby Arugula]                        |2923 |\n",
            "|[Red Peppers]                                 |2905 |\n",
            "|[Organic Large Extra Fancy Fuji Apple]        |2891 |\n",
            "|[Original Hummus]                             |2858 |\n",
            "|[Organic Blackberries]                        |2843 |\n",
            "|[Organic Gala Apples]                         |2809 |\n",
            "|[Fresh Cauliflower]                           |2651 |\n",
            "|[Organic Half & Half]                         |2646 |\n",
            "|[Michigan Organic Kale]                       |2627 |\n",
            "|[Organic Small Bunch Celery]                  |2623 |\n",
            "|[Organic Garnet Sweet Potato (Yam)]           |2568 |\n",
            "|[Organic Tomato Cluster]                      |2538 |\n",
            "|[Green Bell Pepper]                           |2521 |\n",
            "|[Carrots]                                     |2497 |\n",
            "|[Organic Peeled Whole Baby Carrots]           |2460 |\n",
            "|[Half & Half]                                 |2424 |\n",
            "|[Organic Hass Avocado, Bag of Organic Bananas]|2420 |\n",
            "|[Cucumber Kirby]                              |2413 |\n",
            "|[Organic Italian Parsley Bunch]               |2400 |\n",
            "+----------------------------------------------+-----+\n",
            "only showing top 50 rows\n",
            "\n"
          ]
        }
      ]
    },
    {
      "cell_type": "markdown",
      "source": [
        "Write a paragraph of conclusions below summarizing your insights."
      ],
      "metadata": {
        "id": "B8NzokNgkeQx"
      }
    },
    {
      "cell_type": "markdown",
      "source": [
        "By implementing the SON algorithm in Spark, we efficiently mined frequent itemsets in a scalable and parallel manner. Dividing the data into partitions allowed us to process subsets independently in Phase 1, leveraging Spark’s distributed computing to parallelize computations and handle large datasets effectively. Although this phase may miss some globally frequent itemsets (false negatives), Phase 2 addresses this by verifying candidate itemsets against the entire dataset, eliminating false positives and ensuring accuracy. This two-phase approach demonstrates the effectiveness of the SON algorithm for frequent itemset mining on big data, highlighting how parallelism enhances performance and scalability using Spark’s DataFrame API and transformations."
      ],
      "metadata": {
        "id": "KhLPDcX5kfAI"
      }
    },
    {
      "cell_type": "markdown",
      "metadata": {
        "id": "2WSXPflUN76-"
      },
      "source": [
        "Once you obtained the desired results, **head over to eClass and submit your solution for this Colab**!"
      ]
    }
  ]
}